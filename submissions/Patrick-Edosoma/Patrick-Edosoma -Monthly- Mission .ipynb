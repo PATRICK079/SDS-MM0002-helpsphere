{
 "cells": [
  {
   "cell_type": "markdown",
   "id": "097bf546-c9cd-4f66-af32-1eba49b04202",
   "metadata": {},
   "source": [
    "# MONTHLY MISSION PROJECT FROM SUPERDATASCIENCE"
   ]
  },
  {
   "cell_type": "markdown",
   "id": "c3e1cde9-3632-4455-b4b8-723605d1c92f",
   "metadata": {},
   "source": [
    "#### This project is made up of 3 Levels: The initiate level, The Specialist(level 2) and The Operative(level 3) "
   ]
  },
  {
   "cell_type": "markdown",
   "id": "6aab58e2-dd41-4373-8a8b-4b027f280011",
   "metadata": {},
   "source": [
    "####  I'll attend the three levels  and make my work easy to understand"
   ]
  },
  {
   "cell_type": "code",
   "execution_count": null,
   "id": "b1d14498-c4b2-468f-8206-12b3d1b5eb1e",
   "metadata": {},
   "outputs": [],
   "source": []
  },
  {
   "cell_type": "markdown",
   "id": "718d414a-bddc-4281-8064-22dca4e066fd",
   "metadata": {},
   "source": [
    "#### Business statement: This project involves using the provided files: company.txt, product.txt, and shipping.txt—from SuperDataScience to develop a retrieval augmented generation (RAG) system. The goal is to create a solution that can answer specific questions by leveraging the context within these files. The objective is to help the organization improve time management and operational efficiency "
   ]
  },
  {
   "cell_type": "code",
   "execution_count": null,
   "id": "9cdb7f3b-bc71-4b33-947d-62a641e642ee",
   "metadata": {},
   "outputs": [],
   "source": []
  },
  {
   "cell_type": "markdown",
   "id": "cc5ca7af-060d-4c31-a31f-ede0c776e571",
   "metadata": {
    "tags": []
   },
   "source": [
    "## Level 1: The Initiate\n",
    "\n",
    " -- Requirements:\n",
    "\n",
    " * Use HuggingFace for LLM interaction\n",
    "* Support 2 languages (English + 1 other)\n",
    "* Basic text input/output interface"
   ]
  },
  {
   "cell_type": "markdown",
   "id": "6540f490-0811-448f-96f9-4307aa974988",
   "metadata": {
    "execution": {
     "iopub.execute_input": "2025-01-12T13:53:06.332557Z",
     "iopub.status.busy": "2025-01-12T13:53:06.332180Z",
     "iopub.status.idle": "2025-01-12T13:53:06.335702Z",
     "shell.execute_reply": "2025-01-12T13:53:06.335071Z",
     "shell.execute_reply.started": "2025-01-12T13:53:06.332529Z"
    }
   },
   "source": [
    "#### At the end of this level the system should be able to answer the following questions seamlessy\n",
    " * What is the name of the company?\n",
    "   * What types of products do they sell?"
   ]
  },
  {
   "cell_type": "code",
   "execution_count": 2,
   "id": "619f7fd2-17a2-4d01-abbb-92be58c6d4fe",
   "metadata": {
    "execution": {
     "iopub.execute_input": "2025-01-13T14:41:36.614165Z",
     "iopub.status.busy": "2025-01-13T14:41:36.613724Z",
     "iopub.status.idle": "2025-01-13T14:41:40.428562Z",
     "shell.execute_reply": "2025-01-13T14:41:40.427913Z",
     "shell.execute_reply.started": "2025-01-13T14:41:36.614096Z"
    },
    "tags": []
   },
   "outputs": [],
   "source": [
    "import os\n",
    "import pandas as pd\n",
    "import torch\n",
    "import transformers\n",
    "import google.generativeai as genai\n",
    "import numpy as np"
   ]
  },
  {
   "cell_type": "markdown",
   "id": "b38ed46a-ba1b-423e-87ce-d6c163b819b6",
   "metadata": {},
   "source": [
    "## Reading the document and storing into a dataframe"
   ]
  },
  {
   "cell_type": "code",
   "execution_count": 3,
   "id": "d36989f2-0ec6-4e94-9e97-0ac124318793",
   "metadata": {
    "execution": {
     "iopub.execute_input": "2025-01-12T13:25:52.954308Z",
     "iopub.status.busy": "2025-01-12T13:25:52.953857Z",
     "iopub.status.idle": "2025-01-12T13:25:52.963935Z",
     "shell.execute_reply": "2025-01-12T13:25:52.963328Z",
     "shell.execute_reply.started": "2025-01-12T13:25:52.954283Z"
    }
   },
   "outputs": [],
   "source": [
    "\n",
    "# Initialize an empty DataFrame with columns 'Title' and 'Text'\n",
    "\n",
    "df = pd.DataFrame(columns=['Title', 'Text'])\n",
    "\n",
    "title_mapping = {\n",
    "    'company.txt': 'company_data',\n",
    "    'products.txt':'product_data',\n",
    "    'shipping.txt': 'shipping_data'\n",
    "}\n",
    "\n",
    "# Loop through each file in the current directory\n",
    "for file_name in os.listdir('.'):\n",
    "    # Check if the file is in the mapping\n",
    "    if file_name in title_mapping:\n",
    "        try:\n",
    "            with open(file_name, 'r', encoding='utf-8') as file:                \n",
    "                # Read the content of the .txt file and replace newline with spaces\n",
    "                text = file.read().replace('\\n', ' ') \n",
    "                custom_title = title_mapping[file_name]\n",
    "                new_row = pd.DataFrame({'Title': [custom_title], 'Text': [text]})\n",
    "                df = pd.concat([df, new_row], ignore_index=True)\n",
    "        except Exception as e:\n",
    "            print(f\"Error processing file {file_name}: {e}\")\n"
   ]
  },
  {
   "cell_type": "code",
   "execution_count": 4,
   "id": "f8ed0ebe-303a-4263-828d-313fc292d936",
   "metadata": {
    "execution": {
     "iopub.execute_input": "2025-01-12T13:25:53.246373Z",
     "iopub.status.busy": "2025-01-12T13:25:53.246059Z",
     "iopub.status.idle": "2025-01-12T13:25:53.259518Z",
     "shell.execute_reply": "2025-01-12T13:25:53.258904Z",
     "shell.execute_reply.started": "2025-01-12T13:25:53.246350Z"
    }
   },
   "outputs": [
    {
     "data": {
      "text/html": [
       "<div>\n",
       "<style scoped>\n",
       "    .dataframe tbody tr th:only-of-type {\n",
       "        vertical-align: middle;\n",
       "    }\n",
       "\n",
       "    .dataframe tbody tr th {\n",
       "        vertical-align: top;\n",
       "    }\n",
       "\n",
       "    .dataframe thead th {\n",
       "        text-align: right;\n",
       "    }\n",
       "</style>\n",
       "<table border=\"1\" class=\"dataframe\">\n",
       "  <thead>\n",
       "    <tr style=\"text-align: right;\">\n",
       "      <th></th>\n",
       "      <th>Title</th>\n",
       "      <th>Text</th>\n",
       "    </tr>\n",
       "  </thead>\n",
       "  <tbody>\n",
       "    <tr>\n",
       "      <th>0</th>\n",
       "      <td>product_data</td>\n",
       "      <td># TechStyle Global - Product Catalog  ## Consu...</td>\n",
       "    </tr>\n",
       "    <tr>\n",
       "      <th>1</th>\n",
       "      <td>company_data</td>\n",
       "      <td># TechStyle Global - Company Overview  Founded...</td>\n",
       "    </tr>\n",
       "    <tr>\n",
       "      <th>2</th>\n",
       "      <td>shipping_data</td>\n",
       "      <td># TechStyle Global - Shipping Policy  ## Deliv...</td>\n",
       "    </tr>\n",
       "  </tbody>\n",
       "</table>\n",
       "</div>"
      ],
      "text/plain": [
       "           Title                                               Text\n",
       "0   product_data  # TechStyle Global - Product Catalog  ## Consu...\n",
       "1   company_data  # TechStyle Global - Company Overview  Founded...\n",
       "2  shipping_data  # TechStyle Global - Shipping Policy  ## Deliv..."
      ]
     },
     "execution_count": 4,
     "metadata": {},
     "output_type": "execute_result"
    }
   ],
   "source": [
    "df"
   ]
  },
  {
   "cell_type": "code",
   "execution_count": 5,
   "id": "be043f97-34ce-41b0-8a13-1ba921e820b1",
   "metadata": {
    "execution": {
     "iopub.execute_input": "2025-01-12T13:25:54.819785Z",
     "iopub.status.busy": "2025-01-12T13:25:54.819405Z",
     "iopub.status.idle": "2025-01-12T13:25:54.824582Z",
     "shell.execute_reply": "2025-01-12T13:25:54.823847Z",
     "shell.execute_reply.started": "2025-01-12T13:25:54.819759Z"
    }
   },
   "outputs": [
    {
     "data": {
      "text/plain": [
       "'# TechStyle Global - Product Catalog  ## Consumer Electronics  ### Smartphones & Accessories - TechStyle Smartphone Stand Pro   - Price: $29.99   - Adjustable aluminum stand   - Compatible with all smartphones   - Colors: Silver, Black, Rose Gold  - Premium Screen Protector Set   - Price: $19.99   - 9H hardness tempered glass   - Oleophobic coating   - Pack of 3  - Wireless Charging Pad   - Price: $39.99   - 15W fast charging   - LED charging indicator   - Compatible with Qi devices  ### Laptops & Computing - PowerBook Pro 15\"   - Price: $1299.99   - Intel i7 processor   - 16GB RAM   - 512GB SSD   - NVIDIA Graphics  - UltraBook Air 13\"   - Price: $899.99   - AMD Ryzen 5   - 8GB RAM   - 256GB SSD   - 18-hour battery life  - Laptop Accessories Bundle   - Price: $79.99   - Wireless mouse   - Laptop sleeve   - USB-C hub   - Cleaning kit  ## Smart Home Devices  ### Security - SmartCam Pro   - Price: $149.99   - 2K resolution   - Night vision   - Two-way audio   - Cloud storage included  - Smart Door Lock   - Price: $199.99   - Fingerprint sensor   - PIN code entry   - Smartphone control   - Battery backup  ### Home Automation - Smart Light Starter Kit   - Price: $89.99   - 4 smart bulbs   - Hub included   - Voice control   - 16 million colors  - Smart Thermostat   - Price: $129.99   - Energy saving   - Schedule programming   - Remote control   - Usage analytics  ## Wearable Technology  ### Fitness Trackers - FitStyle Pro   - Price: $149.99   - Heart rate monitoring   - Sleep tracking   - 7-day battery life   - Water resistant  - SportBand Lite   - Price: $79.99   - Step counting   - Basic sleep tracking   - 14-day battery life   - 5 color options  ### Smartwatches - TechWatch Premium   - Price: $299.99   - AMOLED display   - ECG monitoring   - GPS   - 50+ sport modes  - TechWatch Lite   - Price: $199.99   - LCD display   - Heart rate monitoring   - Basic fitness tracking   - 2-week battery life  ## TechStyle Basics (Private Label)  ### Cables & Chargers - Premium USB-C Cable   - Price: $14.99   - 6ft length   - Braided nylon   - Fast charging   - Colors: Black, White  - Power Bank 10000mAh   - Price: $34.99   - Dual USB ports   - Fast charging   - LED indicator   - Compact design  ### Audio - TechStyle Wireless Earbuds   - Price: $69.99   - 24-hour battery   - Touch controls   - Water resistant   - Noise isolation  - TechStyle Over-Ear Headphones   - Price: $89.99   - Bluetooth 5.0   - 30-hour battery   - Foldable design   - Carrying case included  ## Special Offers  ### TechStyle Plus Member Benefits - 10% discount on all products - Free express shipping - Early access to new products - Extended warranty - Priority customer support  ### Bundles - Work From Home Bundle   - Price: $1499.99   - UltraBook Air 13\"   - Wireless Mouse   - External Monitor   - Desk Stand   - Webcam  - Smart Home Starter Bundle   - Price: $299.99   - SmartCam Pro   - Smart Light Kit   - Smart Plug (2-pack)   - Voice Assistant  ### Warranty Information - All products include standard 1-year warranty - TechStyle Plus members get additional 1-year warranty - 30-day money-back guarantee - Free technical support  ### Shipping Options - Standard Shipping (3-5 days): Free over $50 - Express Shipping (1-2 days): $9.99 - International Shipping: Available to select countries - TechStyle Plus members get free express shipping'"
      ]
     },
     "execution_count": 5,
     "metadata": {},
     "output_type": "execute_result"
    }
   ],
   "source": [
    "df['Text'][0]"
   ]
  },
  {
   "cell_type": "code",
   "execution_count": 6,
   "id": "828ff941-fa43-4f3f-89ae-ab08d85986a4",
   "metadata": {
    "execution": {
     "iopub.execute_input": "2025-01-12T13:25:55.226433Z",
     "iopub.status.busy": "2025-01-12T13:25:55.226081Z",
     "iopub.status.idle": "2025-01-12T13:25:55.231229Z",
     "shell.execute_reply": "2025-01-12T13:25:55.230435Z",
     "shell.execute_reply.started": "2025-01-12T13:25:55.226407Z"
    }
   },
   "outputs": [
    {
     "data": {
      "text/plain": [
       "\"# TechStyle Global - Company Overview  Founded in 2015, TechStyle Global is a leading e-commerce marketplace specializing in consumer electronics, fashion, and lifestyle products. Our platform connects millions of customers worldwide with quality products at competitive prices.  ## Our Story TechStyle began as a small online electronics store in San Francisco, founded by tech entrepreneurs Sarah Chen and Marcus Rodriguez. Their vision was to create a seamless shopping experience that bridges the gap between technology and lifestyle products. Within five years, we expanded globally, now serving customers in over 50 countries.  ## Mission Statement To provide accessible, innovative, and sustainable shopping solutions that enhance people's daily lives through technology and style.  ## Core Values - Customer First: Every decision we make starts with our customers - Innovation: Constantly improving our platform and services - Sustainability: Committed to reducing our environmental impact - Quality: Rigorous standards for all products on our platform - Diversity: Embracing global perspectives and inclusive practices  ## Our Presence - Headquarters: San Francisco, California - Regional Offices: London, Singapore, Sydney, Toronto - Distribution Centers: United States, United Kingdom, Germany, Japan, Australia - Customer Service: 24/7 support in 12 languages  ## Key Products & Services - Consumer Electronics: Smartphones, laptops, smart home devices - Fashion Tech: Wearables, smart accessories - Lifestyle Products: Home automation, fitness tech - TechStyle Basics: Our private label for affordable tech accessories - TechStyle Plus: Premium membership program with exclusive benefits  ## Customer Support - 24/7 Live Chat Support - Email: support@techstyle.com - Phone: 1-800-TECH-STYLE - Social Media: @TechStyleGlobal  ## Company Statistics - 15+ million active customers - 100,000+ products available - 2,000+ brand partners - 99% order fulfillment rate - 4.8/5 average customer satisfaction  ## Awards & Recognition - 2023 Best E-commerce Platform - Tech Retail Awards - 2022 Sustainability Leadership Award - 2021 Customer Service Excellence - 2020 Best Online Shopping Experience  ## Community Initiatives - TechStyle Education: Free tech literacy programs - Green Tech Initiative: Environmental sustainability program - Future Innovators: Supporting tech startups - Community Tech Hub: Local technology education centers  Contact Information: TechStyle Global, Inc. 123 Innovation Drive San Francisco, CA 94105 United States  General Inquiries: info@techstyle.com Business Partnerships: partners@techstyle.com Press: media@techstyle.com\""
      ]
     },
     "execution_count": 6,
     "metadata": {},
     "output_type": "execute_result"
    }
   ],
   "source": [
    "df['Text'][1]"
   ]
  },
  {
   "cell_type": "code",
   "execution_count": 7,
   "id": "5c0d5212-bff1-49f0-a08f-131b8f207d8f",
   "metadata": {
    "execution": {
     "iopub.execute_input": "2025-01-12T13:25:55.999062Z",
     "iopub.status.busy": "2025-01-12T13:25:55.998649Z",
     "iopub.status.idle": "2025-01-12T13:25:56.003636Z",
     "shell.execute_reply": "2025-01-12T13:25:56.002929Z",
     "shell.execute_reply.started": "2025-01-12T13:25:55.999036Z"
    }
   },
   "outputs": [
    {
     "data": {
      "text/plain": [
       "'# TechStyle Global - Shipping Policy  ## Delivery Options  ### Standard Shipping - Delivery Time: 3-5 business days - Cost: Free for orders over $50 - Orders under $50: $4.99 - Available in: United States and Canada - Tracking provided via email  ### Express Shipping - Delivery Time: 1-2 business days - Cost: $9.99 - Free for TechStyle Plus members - Available in: United States and Canada - Real-time tracking via app and email  ### International Shipping - Delivery Time: 7-14 business days - Cost: Calculated based on:   - Destination country   - Package weight   - Package dimensions - Available in: 50+ countries - Tracking provided where available  ## Order Processing  ### Processing Times - In-stock items: 1-2 business days - Custom orders: 3-5 business days - Pre-orders: As specified on product page - Business days are Monday-Friday, excluding holidays  ### Cut-off Times - Orders placed before 2 PM EST: Same-day processing - Orders placed after 2 PM EST: Next business day processing - Express orders before 11 AM EST: Same-day shipping  ## Shipping Restrictions  ### Restricted Items - Batteries and power banks - Aerosol products - Certain electronics - Please check specific product pages for restrictions  ### Restricted Locations - Some PO boxes - APO/FPO addresses - Certain international locations - Please contact support for detailed information  ## Tracking Your Order  ### Tracking Information - Provided via email once order ships - Available in your TechStyle account - Updates at major shipping milestones - Live chat support for tracking questions  ### Lost Packages - Domestic: Investigation after 5 business days - International: Investigation after 14 business days - Claims must be filed within 30 days of shipment  ## Special Circumstances  ### Weather Delays - Delivery times may be affected by severe weather - Notifications sent for significant delays - Safety of packages prioritized during extreme conditions  ### Holiday Shipping - Extended processing times during peak seasons - Holiday cut-off dates posted in October - Special holiday shipping rates may apply  ## International Orders  ### Customs & Duties - Import duties not included in shipping cost - Buyer responsible for customs fees - Local taxes may apply - Delivery times may vary due to customs  ### International Returns - Return shipping labels provided for defective items - Customer pays return shipping for non-defective items - 45-day return window for international orders  ## TechStyle Plus Benefits  ### Member Privileges - Free express shipping on all orders - Priority processing - Exclusive holiday shipping rates - Early access to pre-orders  ### Premium Support - Dedicated shipping support line - Priority claim processing - Special handling requests accepted  ## Contact Information  ### Shipping Support - Email: shipping@techstyle.com - Phone: 1-800-TECH-STYLE (Option 2) - Live Chat: Available 24/7 - Response Time: Within 24 hours  ### Claims Department - Email: claims@techstyle.com - Phone: 1-800-TECH-STYLE (Option 3) - Claim Forms: Available in account dashboard  ## Policy Updates - Last Updated: December 2024 - Changes will be notified via email - Policy updates posted 30 days in advance - Historic policies available upon request'"
      ]
     },
     "execution_count": 7,
     "metadata": {},
     "output_type": "execute_result"
    }
   ],
   "source": [
    "df['Text'][2]"
   ]
  },
  {
   "cell_type": "code",
   "execution_count": null,
   "id": "4e9d4b9e-60a5-4581-a9be-f7749eedad1d",
   "metadata": {},
   "outputs": [],
   "source": []
  },
  {
   "cell_type": "markdown",
   "id": "a148c0d9-32a2-4894-847e-a8505edcfed6",
   "metadata": {},
   "source": [
    "## Step 2: Load Embedding Model"
   ]
  },
  {
   "cell_type": "code",
   "execution_count": 10,
   "id": "e8848a8f-5b9f-4d38-902e-4a36325db9ac",
   "metadata": {
    "execution": {
     "iopub.execute_input": "2025-01-12T15:30:23.981340Z",
     "iopub.status.busy": "2025-01-12T15:30:23.980951Z",
     "iopub.status.idle": "2025-01-12T15:30:23.985119Z",
     "shell.execute_reply": "2025-01-12T15:30:23.984258Z",
     "shell.execute_reply.started": "2025-01-12T15:30:23.981305Z"
    },
    "tags": []
   },
   "outputs": [],
   "source": [
    "api_key = os.getenv(\"GOOGLE_API_KEY\")\n",
    "genai.configure(api_key=api_key)"
   ]
  },
  {
   "cell_type": "code",
   "execution_count": 11,
   "id": "02811ad9-3f7a-4068-baf5-b61b2b5eecc0",
   "metadata": {
    "execution": {
     "iopub.execute_input": "2025-01-12T13:29:44.923185Z",
     "iopub.status.busy": "2025-01-12T13:29:44.922518Z",
     "iopub.status.idle": "2025-01-12T13:29:45.019197Z",
     "shell.execute_reply": "2025-01-12T13:29:45.018601Z",
     "shell.execute_reply.started": "2025-01-12T13:29:44.923156Z"
    },
    "tags": []
   },
   "outputs": [
    {
     "name": "stdout",
     "output_type": "stream",
     "text": [
      "models/chat-bison-001\n",
      "models/text-bison-001\n",
      "models/embedding-gecko-001\n",
      "models/gemini-1.0-pro-latest\n",
      "models/gemini-1.0-pro\n",
      "models/gemini-pro\n",
      "models/gemini-1.0-pro-001\n",
      "models/gemini-1.0-pro-vision-latest\n",
      "models/gemini-pro-vision\n",
      "models/gemini-1.5-pro-latest\n",
      "models/gemini-1.5-pro-001\n",
      "models/gemini-1.5-pro-002\n",
      "models/gemini-1.5-pro\n",
      "models/gemini-1.5-pro-exp-0801\n",
      "models/gemini-1.5-pro-exp-0827\n",
      "models/gemini-1.5-flash-latest\n",
      "models/gemini-1.5-flash-001\n",
      "models/gemini-1.5-flash-001-tuning\n",
      "models/gemini-1.5-flash\n",
      "models/gemini-1.5-flash-exp-0827\n",
      "models/gemini-1.5-flash-002\n",
      "models/gemini-1.5-flash-8b\n",
      "models/gemini-1.5-flash-8b-001\n",
      "models/gemini-1.5-flash-8b-latest\n",
      "models/gemini-1.5-flash-8b-exp-0827\n",
      "models/gemini-1.5-flash-8b-exp-0924\n",
      "models/gemini-2.0-flash-exp\n",
      "models/gemini-exp-1206\n",
      "models/gemini-exp-1121\n",
      "models/gemini-exp-1114\n",
      "models/gemini-2.0-flash-thinking-exp\n",
      "models/gemini-2.0-flash-thinking-exp-1219\n",
      "models/learnlm-1.5-pro-experimental\n",
      "models/embedding-001\n",
      "models/text-embedding-004\n",
      "models/aqa\n"
     ]
    }
   ],
   "source": [
    "for model in genai.list_models():\n",
    "    print(model.name)"
   ]
  },
  {
   "cell_type": "code",
   "execution_count": null,
   "id": "7d2f9137-f8d1-4e16-84c0-26662d4a8589",
   "metadata": {},
   "outputs": [],
   "source": []
  },
  {
   "cell_type": "markdown",
   "id": "77150276-8ec1-4e71-939d-afdadb3a96ef",
   "metadata": {},
   "source": [
    "## Step 3: Create Vector Embeddings"
   ]
  },
  {
   "cell_type": "code",
   "execution_count": null,
   "id": "fbc52545-8afa-4496-91b8-1772914e4ebd",
   "metadata": {},
   "outputs": [],
   "source": []
  },
  {
   "cell_type": "code",
   "execution_count": 12,
   "id": "64196efa-1f49-40bf-aac9-8dd25a019eaf",
   "metadata": {
    "execution": {
     "iopub.execute_input": "2025-01-12T13:29:46.582184Z",
     "iopub.status.busy": "2025-01-12T13:29:46.581775Z",
     "iopub.status.idle": "2025-01-12T13:29:46.586077Z",
     "shell.execute_reply": "2025-01-12T13:29:46.585302Z",
     "shell.execute_reply.started": "2025-01-12T13:29:46.582158Z"
    },
    "tags": []
   },
   "outputs": [],
   "source": [
    "## using embedding-001\n",
    "\n",
    "def embed_text(text):\n",
    "    return genai.embed_content(model='models/embedding-001',content=text,\n",
    "                             task_type='retrieval_document')['embedding']"
   ]
  },
  {
   "cell_type": "code",
   "execution_count": null,
   "id": "1c4fd4ba-8077-430f-b1b9-21350e5d000b",
   "metadata": {},
   "outputs": [],
   "source": []
  },
  {
   "cell_type": "code",
   "execution_count": 13,
   "id": "d11fd96f-3a59-4444-9dd7-eee2ac30ce0b",
   "metadata": {
    "execution": {
     "iopub.execute_input": "2025-01-12T13:29:47.430012Z",
     "iopub.status.busy": "2025-01-12T13:29:47.429630Z",
     "iopub.status.idle": "2025-01-12T13:29:47.656909Z",
     "shell.execute_reply": "2025-01-12T13:29:47.656217Z",
     "shell.execute_reply.started": "2025-01-12T13:29:47.429979Z"
    },
    "tags": []
   },
   "outputs": [
    {
     "data": {
      "text/plain": [
       "[[0.036324266,\n",
       "  -0.016104134,\n",
       "  -0.06378887,\n",
       "  0.0003293303,\n",
       "  0.06889862,\n",
       "  0.025572963,\n",
       "  0.015267983,\n",
       "  -0.030628,\n",
       "  -0.001611677,\n",
       "  0.04255618,\n",
       "  -0.018528556,\n",
       "  0.02613645,\n",
       "  -0.020302687,\n",
       "  0.035702106,\n",
       "  0.00093939365,\n",
       "  -0.018568495,\n",
       "  0.024387764,\n",
       "  0.021278517,\n",
       "  0.026603155,\n",
       "  -0.0232328,\n",
       "  0.020398743,\n",
       "  0.012248343,\n",
       "  -0.0011772101,\n",
       "  -0.014038618,\n",
       "  0.01914998,\n",
       "  -0.00991502,\n",
       "  0.0027459278,\n",
       "  -0.053401366,\n",
       "  -0.046979614,\n",
       "  0.0029287226,\n",
       "  -0.0465679,\n",
       "  0.004048616,\n",
       "  -0.058430996,\n",
       "  0.009856659,\n",
       "  0.0022491156,\n",
       "  -0.035116293,\n",
       "  -0.029151557,\n",
       "  0.014875902,\n",
       "  -0.005494093,\n",
       "  0.019807024,\n",
       "  0.01414047,\n",
       "  -0.017134167,\n",
       "  -0.04283156,\n",
       "  0.0017684806,\n",
       "  0.008481331,\n",
       "  -0.0111722825,\n",
       "  -0.039881635,\n",
       "  0.03966658,\n",
       "  0.0041230447,\n",
       "  -0.04116027,\n",
       "  0.037181858,\n",
       "  0.010318138,\n",
       "  0.07368109,\n",
       "  -0.043018118,\n",
       "  0.0036252341,\n",
       "  -0.05481147,\n",
       "  0.044152737,\n",
       "  -0.007069333,\n",
       "  -0.008919668,\n",
       "  0.01248939,\n",
       "  -0.021858148,\n",
       "  0.016412556,\n",
       "  0.03117762,\n",
       "  0.014073012,\n",
       "  -0.05606764,\n",
       "  -0.07045042,\n",
       "  -0.037192635,\n",
       "  0.0024511092,\n",
       "  0.041920505,\n",
       "  0.010700124,\n",
       "  -0.014589377,\n",
       "  -0.034069527,\n",
       "  0.055718742,\n",
       "  -0.013207197,\n",
       "  -0.0074929697,\n",
       "  -0.13369639,\n",
       "  -0.017672535,\n",
       "  0.05387522,\n",
       "  0.036152203,\n",
       "  0.00577113,\n",
       "  0.01831556,\n",
       "  -0.0560684,\n",
       "  -0.081691176,\n",
       "  -0.029259682,\n",
       "  -0.0645626,\n",
       "  0.00714342,\n",
       "  -0.04487289,\n",
       "  -0.02171733,\n",
       "  0.018859461,\n",
       "  0.04076061,\n",
       "  -0.052242704,\n",
       "  -0.019194718,\n",
       "  0.052462112,\n",
       "  -0.048613816,\n",
       "  -0.013747354,\n",
       "  0.06346919,\n",
       "  -0.038434368,\n",
       "  -0.024553834,\n",
       "  0.037667394,\n",
       "  0.00047458772,\n",
       "  0.0048416727,\n",
       "  -0.014830596,\n",
       "  -0.064210184,\n",
       "  0.028188819,\n",
       "  0.034480497,\n",
       "  0.014743673,\n",
       "  0.02547237,\n",
       "  0.057513133,\n",
       "  -0.0015109208,\n",
       "  0.021381253,\n",
       "  -0.05175772,\n",
       "  0.0019003421,\n",
       "  0.0087350225,\n",
       "  0.026232658,\n",
       "  0.048735753,\n",
       "  -0.028865114,\n",
       "  -0.002436947,\n",
       "  0.063427106,\n",
       "  0.033114173,\n",
       "  0.03874219,\n",
       "  0.041103102,\n",
       "  -0.00597138,\n",
       "  0.08185573,\n",
       "  -0.011747827,\n",
       "  0.029453902,\n",
       "  0.0062339623,\n",
       "  -0.024269365,\n",
       "  0.024544394,\n",
       "  0.00916227,\n",
       "  0.00026624015,\n",
       "  -0.011753661,\n",
       "  -0.057494115,\n",
       "  -0.057589576,\n",
       "  0.020661939,\n",
       "  0.07184298,\n",
       "  0.09849461,\n",
       "  0.03645267,\n",
       "  -0.013002014,\n",
       "  0.041589722,\n",
       "  0.0044257413,\n",
       "  0.031155054,\n",
       "  0.025954455,\n",
       "  -0.006883184,\n",
       "  0.021104975,\n",
       "  -0.019241862,\n",
       "  0.0804474,\n",
       "  -0.065137774,\n",
       "  0.004061501,\n",
       "  0.0714318,\n",
       "  -0.031665068,\n",
       "  -0.03131869,\n",
       "  -0.01467494,\n",
       "  -0.07124374,\n",
       "  -0.004968492,\n",
       "  0.062080648,\n",
       "  -0.012823878,\n",
       "  -0.022930754,\n",
       "  0.02571134,\n",
       "  -0.008772344,\n",
       "  0.007834443,\n",
       "  0.03552769,\n",
       "  0.009152088,\n",
       "  0.014130161,\n",
       "  0.045831334,\n",
       "  0.008485921,\n",
       "  -0.033174064,\n",
       "  -0.022408938,\n",
       "  0.0011758487,\n",
       "  -0.0059314775,\n",
       "  0.027518213,\n",
       "  -0.028953746,\n",
       "  0.009727843,\n",
       "  -0.029039472,\n",
       "  -0.04610186,\n",
       "  -0.028919864,\n",
       "  -0.0324952,\n",
       "  0.020927837,\n",
       "  0.0033525624,\n",
       "  -0.054412268,\n",
       "  -0.014573403,\n",
       "  0.011563945,\n",
       "  -0.041434333,\n",
       "  0.011975114,\n",
       "  0.065720245,\n",
       "  0.010859196,\n",
       "  -0.059090048,\n",
       "  0.049532544,\n",
       "  0.013519877,\n",
       "  -0.033941947,\n",
       "  0.017307244,\n",
       "  -0.016529843,\n",
       "  0.0042870683,\n",
       "  -0.055640873,\n",
       "  -0.036124658,\n",
       "  -0.043734193,\n",
       "  0.055119943,\n",
       "  0.006581475,\n",
       "  -0.00946553,\n",
       "  0.00036087062,\n",
       "  -0.040671468,\n",
       "  -0.009725627,\n",
       "  0.07973879,\n",
       "  -0.0053748046,\n",
       "  -0.018455844,\n",
       "  0.022558369,\n",
       "  -0.014547829,\n",
       "  0.059750192,\n",
       "  -0.031957828,\n",
       "  -0.04604213,\n",
       "  0.018342566,\n",
       "  -0.03708539,\n",
       "  0.042397644,\n",
       "  -2.182147e-05,\n",
       "  0.016119003,\n",
       "  0.02955483,\n",
       "  -0.015369492,\n",
       "  0.013157674,\n",
       "  0.012727035,\n",
       "  0.03561032,\n",
       "  -0.023563152,\n",
       "  -0.013226514,\n",
       "  0.006257133,\n",
       "  -0.02565795,\n",
       "  0.025884388,\n",
       "  0.0052170074,\n",
       "  0.0382819,\n",
       "  -0.009305782,\n",
       "  0.017258583,\n",
       "  0.022407949,\n",
       "  -0.060930364,\n",
       "  0.0122098895,\n",
       "  0.089043185,\n",
       "  0.0330857,\n",
       "  0.00068642996,\n",
       "  0.07173518,\n",
       "  -0.009017066,\n",
       "  -0.005943684,\n",
       "  0.030164918,\n",
       "  0.0009747039,\n",
       "  0.03366869,\n",
       "  -0.033507943,\n",
       "  0.045172647,\n",
       "  0.031016557,\n",
       "  0.022050165,\n",
       "  -0.060487956,\n",
       "  -0.050648,\n",
       "  -0.038704824,\n",
       "  0.050435867,\n",
       "  -0.0020003817,\n",
       "  0.06100761,\n",
       "  0.0014869185,\n",
       "  -0.056286503,\n",
       "  -0.02304357,\n",
       "  -0.027778983,\n",
       "  -0.08641349,\n",
       "  0.02194783,\n",
       "  -0.049094856,\n",
       "  0.029220825,\n",
       "  -0.033199225,\n",
       "  -0.006749071,\n",
       "  0.058408268,\n",
       "  -0.020070415,\n",
       "  -0.021566099,\n",
       "  -0.022876373,\n",
       "  -0.0153644765,\n",
       "  -0.020964587,\n",
       "  -0.006624151,\n",
       "  -0.05544243,\n",
       "  0.009478718,\n",
       "  0.012648718,\n",
       "  0.03424285,\n",
       "  -0.032945126,\n",
       "  0.0274518,\n",
       "  0.006476764,\n",
       "  0.0006543128,\n",
       "  0.0009044882,\n",
       "  -0.006121183,\n",
       "  0.07627825,\n",
       "  0.015315376,\n",
       "  -0.055121418,\n",
       "  0.03949514,\n",
       "  0.01100019,\n",
       "  0.04908197,\n",
       "  -0.030298019,\n",
       "  0.018913114,\n",
       "  0.008358172,\n",
       "  -0.06454661,\n",
       "  -0.034807716,\n",
       "  0.019933496,\n",
       "  -0.051409073,\n",
       "  -0.029805044,\n",
       "  -0.06945137,\n",
       "  0.046214543,\n",
       "  -0.03262839,\n",
       "  -0.010895179,\n",
       "  -0.00363015,\n",
       "  -0.015279258,\n",
       "  0.055620153,\n",
       "  0.027982544,\n",
       "  -0.026278723,\n",
       "  -0.005496559,\n",
       "  -0.080712065,\n",
       "  0.015738886,\n",
       "  -0.097383305,\n",
       "  -0.008030408,\n",
       "  0.013344612,\n",
       "  -0.026889654,\n",
       "  -0.045463745,\n",
       "  0.031976536,\n",
       "  1.3447593e-05,\n",
       "  0.008333887,\n",
       "  0.026485875,\n",
       "  -0.017821247,\n",
       "  -0.01668914,\n",
       "  0.033408575,\n",
       "  0.04825997,\n",
       "  -0.03140777,\n",
       "  0.01563291,\n",
       "  0.010578238,\n",
       "  0.048487343,\n",
       "  -0.002708981,\n",
       "  0.050527617,\n",
       "  0.020451017,\n",
       "  0.00034290104,\n",
       "  0.0008734996,\n",
       "  0.031067546,\n",
       "  0.008756586,\n",
       "  0.006942089,\n",
       "  -0.030942539,\n",
       "  0.018947784,\n",
       "  -0.038587313,\n",
       "  0.029034892,\n",
       "  -0.05189761,\n",
       "  0.004686591,\n",
       "  -0.010643627,\n",
       "  0.032489065,\n",
       "  -0.1041306,\n",
       "  -0.00909949,\n",
       "  -0.061068103,\n",
       "  -0.019635938,\n",
       "  0.021017075,\n",
       "  0.010798977,\n",
       "  -0.048175983,\n",
       "  -0.025593713,\n",
       "  0.00883836,\n",
       "  -0.025929214,\n",
       "  -0.04844897,\n",
       "  0.060567338,\n",
       "  0.07120384,\n",
       "  0.050495032,\n",
       "  0.004386288,\n",
       "  0.06666508,\n",
       "  -0.008281061,\n",
       "  0.040436924,\n",
       "  -0.0153818065,\n",
       "  -0.027680285,\n",
       "  0.049106203,\n",
       "  -0.04847283,\n",
       "  -0.010422165,\n",
       "  -0.020875456,\n",
       "  0.015871424,\n",
       "  0.020385023,\n",
       "  0.00938827,\n",
       "  -0.02428784,\n",
       "  -0.006105412,\n",
       "  -0.0014780461,\n",
       "  -0.0056314724,\n",
       "  0.017605664,\n",
       "  -0.037288226,\n",
       "  0.071257904,\n",
       "  0.025952859,\n",
       "  -0.022819791,\n",
       "  0.029275537,\n",
       "  -0.036765918,\n",
       "  0.020188618,\n",
       "  0.013514817,\n",
       "  -0.041511413,\n",
       "  -0.016409317,\n",
       "  0.03336549,\n",
       "  0.012400372,\n",
       "  0.030150728,\n",
       "  0.022445757,\n",
       "  0.047206044,\n",
       "  0.0014136321,\n",
       "  0.0025091867,\n",
       "  -0.014570861,\n",
       "  0.04005976,\n",
       "  0.02309096,\n",
       "  -0.04055404,\n",
       "  0.044075683,\n",
       "  -0.057765473,\n",
       "  0.03155482,\n",
       "  0.07856934,\n",
       "  -0.0068900622,\n",
       "  0.002550769,\n",
       "  -0.022981131,\n",
       "  0.013298318,\n",
       "  -0.047662362,\n",
       "  0.01227026,\n",
       "  0.06696303,\n",
       "  -0.029915866,\n",
       "  -0.066762924,\n",
       "  -0.036400422,\n",
       "  -0.006318978,\n",
       "  -0.06613822,\n",
       "  0.01680852,\n",
       "  0.024747675,\n",
       "  -0.0019436146,\n",
       "  -0.05978632,\n",
       "  -0.031851433,\n",
       "  0.010976608,\n",
       "  -0.016716609,\n",
       "  -0.010501119,\n",
       "  -0.06843655,\n",
       "  -0.0473692,\n",
       "  -0.027286323,\n",
       "  0.04230164,\n",
       "  -0.04083011,\n",
       "  -0.009608879,\n",
       "  0.028963977,\n",
       "  -0.040586792,\n",
       "  -0.022977956,\n",
       "  0.010992357,\n",
       "  0.00045378605,\n",
       "  -0.07192763,\n",
       "  -0.024501616,\n",
       "  0.043900378,\n",
       "  0.026590703,\n",
       "  0.006160229,\n",
       "  0.013907347,\n",
       "  0.037519466,\n",
       "  0.010581637,\n",
       "  -0.0311721,\n",
       "  -0.0073595294,\n",
       "  0.0118199345,\n",
       "  -0.059435185,\n",
       "  -0.001910295,\n",
       "  0.04071274,\n",
       "  -0.011383898,\n",
       "  0.006891278,\n",
       "  0.048760593,\n",
       "  -0.03631736,\n",
       "  0.019223036,\n",
       "  -0.014048562,\n",
       "  -0.013866205,\n",
       "  -0.014092279,\n",
       "  -0.005354705,\n",
       "  -0.028695766,\n",
       "  -0.00016220516,\n",
       "  -0.0873699,\n",
       "  0.04520737,\n",
       "  -0.08525822,\n",
       "  -0.028881947,\n",
       "  -0.052519158,\n",
       "  -0.06510202,\n",
       "  -0.030859467,\n",
       "  -0.008394897,\n",
       "  0.060798526,\n",
       "  -0.0041778004,\n",
       "  0.00016681355,\n",
       "  -0.0051081027,\n",
       "  -0.0059460537,\n",
       "  0.00010928082,\n",
       "  -0.09687768,\n",
       "  0.03826495,\n",
       "  -0.006624733,\n",
       "  -0.0040146117,\n",
       "  -0.030811721,\n",
       "  0.036555182,\n",
       "  0.022512183,\n",
       "  -0.009760787,\n",
       "  -0.032602426,\n",
       "  -0.024718335,\n",
       "  0.00036781176,\n",
       "  -0.05401989,\n",
       "  -0.019376425,\n",
       "  -0.07371265,\n",
       "  0.06549001,\n",
       "  -0.05295757,\n",
       "  -0.0011874149,\n",
       "  0.03704889,\n",
       "  -0.0056726295,\n",
       "  -0.0045465836,\n",
       "  0.029446896,\n",
       "  -0.01008158,\n",
       "  0.021720953,\n",
       "  -0.0076901885,\n",
       "  -0.019877087,\n",
       "  -0.009263218,\n",
       "  0.044502422,\n",
       "  0.015325537,\n",
       "  -0.011253863,\n",
       "  0.003485175,\n",
       "  -0.031039905,\n",
       "  -0.033634998,\n",
       "  0.013791611,\n",
       "  -0.014812373,\n",
       "  0.06298565,\n",
       "  0.036091708,\n",
       "  0.011997996,\n",
       "  -0.004320175,\n",
       "  -0.040447958,\n",
       "  -0.014609984,\n",
       "  -0.006095462,\n",
       "  0.078762695,\n",
       "  -0.07793507,\n",
       "  -0.0073554083,\n",
       "  0.052605674,\n",
       "  0.034548875,\n",
       "  -0.01647207,\n",
       "  0.03817869,\n",
       "  0.020051459,\n",
       "  -0.022566533,\n",
       "  0.029143741,\n",
       "  0.04803424,\n",
       "  -0.043409478,\n",
       "  -0.00640114,\n",
       "  0.012520211,\n",
       "  0.0034586547,\n",
       "  -0.016027223,\n",
       "  0.007133418,\n",
       "  -0.016847197,\n",
       "  -0.076145634,\n",
       "  -0.024088098,\n",
       "  0.021169892,\n",
       "  -0.053056452,\n",
       "  0.010922052,\n",
       "  -0.0056820004,\n",
       "  -0.04620256,\n",
       "  0.008609162,\n",
       "  -0.04328512,\n",
       "  0.05907739,\n",
       "  -0.061666172,\n",
       "  -0.020924935,\n",
       "  0.05421745,\n",
       "  0.012051582,\n",
       "  0.026325684,\n",
       "  0.021394303,\n",
       "  -0.028474152,\n",
       "  -0.02659223,\n",
       "  0.03193169,\n",
       "  -0.027670216,\n",
       "  0.030389097,\n",
       "  0.013935231,\n",
       "  -0.060951155,\n",
       "  0.011003186,\n",
       "  -0.0007170505,\n",
       "  -0.06856514,\n",
       "  0.005820243,\n",
       "  -0.0062432797,\n",
       "  -0.0069231754,\n",
       "  0.04382822,\n",
       "  0.0408233,\n",
       "  -0.033064682,\n",
       "  0.024564294,\n",
       "  -0.010689955,\n",
       "  -0.008389095,\n",
       "  -0.009399504,\n",
       "  0.032245863,\n",
       "  -0.01706195,\n",
       "  0.0019488118,\n",
       "  0.0005755035,\n",
       "  0.005087136,\n",
       "  0.021329364,\n",
       "  0.074781574,\n",
       "  0.022123614,\n",
       "  -0.033755023,\n",
       "  -0.035351563,\n",
       "  0.051906426,\n",
       "  -0.0034622222,\n",
       "  -0.019470068,\n",
       "  -0.0011675888,\n",
       "  0.027088163,\n",
       "  0.0080335755,\n",
       "  0.044546615,\n",
       "  -0.0026343022,\n",
       "  -0.07345176,\n",
       "  -0.005578718,\n",
       "  -0.015474796,\n",
       "  0.0023944064,\n",
       "  0.049363665,\n",
       "  -0.037597366,\n",
       "  0.004776695,\n",
       "  0.07612263,\n",
       "  -0.0122676,\n",
       "  0.0245088,\n",
       "  0.0678915,\n",
       "  0.046615485,\n",
       "  0.016381694,\n",
       "  0.007670491,\n",
       "  -0.06550526,\n",
       "  0.023014853,\n",
       "  -0.06528961,\n",
       "  -0.008567173,\n",
       "  -0.0005447789,\n",
       "  0.004253779,\n",
       "  0.03953793,\n",
       "  -0.023803966,\n",
       "  -0.03666202,\n",
       "  -0.016910497,\n",
       "  0.0109028295,\n",
       "  -0.025858738,\n",
       "  0.034020305,\n",
       "  -0.041654702,\n",
       "  0.056114655,\n",
       "  0.029226068,\n",
       "  -0.011519485,\n",
       "  0.027292011,\n",
       "  0.012841395,\n",
       "  0.060906097,\n",
       "  0.0046995254,\n",
       "  -0.020626258,\n",
       "  -0.005669735,\n",
       "  -0.0349818,\n",
       "  -0.01826656,\n",
       "  -0.06381795,\n",
       "  0.06737569,\n",
       "  -0.0022828649,\n",
       "  -0.03726452,\n",
       "  -0.060216382,\n",
       "  -0.026473783,\n",
       "  0.010495748,\n",
       "  0.032648835,\n",
       "  -0.038846098,\n",
       "  0.0077034477,\n",
       "  0.0033336764,\n",
       "  -0.05090148,\n",
       "  -0.018228108,\n",
       "  0.08714555,\n",
       "  0.03956097,\n",
       "  0.03665195,\n",
       "  0.07286703,\n",
       "  -0.015394874,\n",
       "  0.02204389,\n",
       "  -0.042373143,\n",
       "  0.0040511945,\n",
       "  -0.017902639,\n",
       "  0.019866979,\n",
       "  0.014612387,\n",
       "  0.0051787854,\n",
       "  -0.05854823,\n",
       "  -0.0068407846,\n",
       "  0.011576793,\n",
       "  0.019262316,\n",
       "  -0.008057683,\n",
       "  0.06587263,\n",
       "  0.028574435,\n",
       "  -0.0948238,\n",
       "  -0.088761576,\n",
       "  -0.0029148245,\n",
       "  -0.01292371,\n",
       "  -0.0034997363,\n",
       "  0.008791774,\n",
       "  -0.010856965,\n",
       "  0.031147871,\n",
       "  0.010702772,\n",
       "  -0.028938385,\n",
       "  -0.049056444,\n",
       "  0.029739596,\n",
       "  -0.02500361,\n",
       "  -0.034877647,\n",
       "  -0.008806168,\n",
       "  -0.021692201,\n",
       "  0.007706127,\n",
       "  0.0078102793,\n",
       "  -0.016974622,\n",
       "  -0.03544012,\n",
       "  -0.07992134,\n",
       "  -0.019131301,\n",
       "  0.031873327,\n",
       "  -0.07296072,\n",
       "  0.018738989,\n",
       "  0.051578075,\n",
       "  0.0016909959,\n",
       "  0.053006213,\n",
       "  -0.009779462,\n",
       "  0.0026215056,\n",
       "  0.047013562,\n",
       "  0.006611591,\n",
       "  0.02260393,\n",
       "  0.054668717,\n",
       "  0.0012807684,\n",
       "  -0.03451861,\n",
       "  0.028893735,\n",
       "  -0.000437124,\n",
       "  0.038512517,\n",
       "  0.0089511275,\n",
       "  -0.0042393007,\n",
       "  -0.038872194,\n",
       "  -0.055914465,\n",
       "  0.01955522,\n",
       "  -0.01781994,\n",
       "  -0.0055294465,\n",
       "  0.06898192,\n",
       "  0.024483602,\n",
       "  0.04191516,\n",
       "  -0.015342315,\n",
       "  -0.00031392954,\n",
       "  0.018531712,\n",
       "  0.040872153,\n",
       "  -0.01847061,\n",
       "  -0.03456344,\n",
       "  -0.010835499,\n",
       "  0.04052261,\n",
       "  0.027313124,\n",
       "  0.009159733,\n",
       "  0.029866934,\n",
       "  0.02051151,\n",
       "  0.042876687,\n",
       "  0.05091168,\n",
       "  0.018532448,\n",
       "  -0.048948254,\n",
       "  -0.040182967,\n",
       "  0.06859217,\n",
       "  0.013919711,\n",
       "  -0.044653825,\n",
       "  0.005777744,\n",
       "  0.061575122,\n",
       "  -0.039691992,\n",
       "  0.07709775,\n",
       "  0.036223106,\n",
       "  0.030229906,\n",
       "  0.020505175,\n",
       "  -0.030538933,\n",
       "  -0.0625368,\n",
       "  0.085499845,\n",
       "  -0.02788517,\n",
       "  -0.015468479,\n",
       "  -0.0147070065,\n",
       "  -0.02800007,\n",
       "  0.054760735,\n",
       "  -0.008861462,\n",
       "  -0.02574093,\n",
       "  0.02817478,\n",
       "  -0.020572517,\n",
       "  0.0872747,\n",
       "  0.03311996,\n",
       "  0.019509556,\n",
       "  -0.0016539214,\n",
       "  -0.07898894,\n",
       "  -0.027965799,\n",
       "  0.014938091,\n",
       "  0.022033947,\n",
       "  0.048618104,\n",
       "  0.025731802,\n",
       "  -0.023611533,\n",
       "  -0.012628478,\n",
       "  -0.048343226,\n",
       "  0.006539688,\n",
       "  -0.07072505,\n",
       "  -0.025180839,\n",
       "  0.001793077,\n",
       "  -0.04960446,\n",
       "  0.024922328,\n",
       "  0.051210076,\n",
       "  -0.015349137,\n",
       "  -0.00743886,\n",
       "  -0.034619097,\n",
       "  0.010916743,\n",
       "  0.012704735,\n",
       "  -0.03256339,\n",
       "  -0.008033348,\n",
       "  0.014014921,\n",
       "  0.0023709834,\n",
       "  0.017449994,\n",
       "  0.005442297,\n",
       "  -0.032443374,\n",
       "  0.013153733],\n",
       " [0.034801308,\n",
       "  -0.019596437,\n",
       "  -0.065855116,\n",
       "  -0.0003882421,\n",
       "  0.064863354,\n",
       "  0.029400997,\n",
       "  0.018111238,\n",
       "  -0.031157797,\n",
       "  -0.0055624912,\n",
       "  0.050133497,\n",
       "  -0.0067808456,\n",
       "  0.032761935,\n",
       "  -0.02373355,\n",
       "  0.0332384,\n",
       "  -0.0025973031,\n",
       "  -0.018752031,\n",
       "  0.021502377,\n",
       "  0.028480079,\n",
       "  0.011623926,\n",
       "  -0.019853175,\n",
       "  0.017497024,\n",
       "  0.013263358,\n",
       "  -0.0059902784,\n",
       "  -0.012725939,\n",
       "  0.022324298,\n",
       "  -0.0039524687,\n",
       "  -0.0067276517,\n",
       "  -0.0600625,\n",
       "  -0.04482121,\n",
       "  0.005177435,\n",
       "  -0.045466255,\n",
       "  0.0028888423,\n",
       "  -0.054709826,\n",
       "  0.017174622,\n",
       "  0.00030259258,\n",
       "  -0.03857917,\n",
       "  -0.014299289,\n",
       "  0.00049592555,\n",
       "  -0.012593611,\n",
       "  0.021176381,\n",
       "  0.0065474794,\n",
       "  -0.021700105,\n",
       "  -0.032260343,\n",
       "  0.007456961,\n",
       "  0.0026384243,\n",
       "  -0.001781453,\n",
       "  -0.051923,\n",
       "  0.036522854,\n",
       "  -0.00023840315,\n",
       "  -0.04007712,\n",
       "  0.03969992,\n",
       "  0.0059181354,\n",
       "  0.07145129,\n",
       "  -0.046150025,\n",
       "  0.001688318,\n",
       "  -0.05430103,\n",
       "  0.047183268,\n",
       "  0.008037233,\n",
       "  -0.006157556,\n",
       "  0.009237156,\n",
       "  -0.027454345,\n",
       "  0.020188665,\n",
       "  0.032203633,\n",
       "  0.0058004153,\n",
       "  -0.06381359,\n",
       "  -0.077899575,\n",
       "  -0.043180875,\n",
       "  0.0012545139,\n",
       "  0.040222473,\n",
       "  0.006228089,\n",
       "  0.00111045,\n",
       "  -0.04272748,\n",
       "  0.051556244,\n",
       "  -0.008993765,\n",
       "  -0.023429671,\n",
       "  -0.13698131,\n",
       "  -0.023594901,\n",
       "  0.05290333,\n",
       "  0.03474987,\n",
       "  0.005131712,\n",
       "  0.01760216,\n",
       "  -0.05328865,\n",
       "  -0.077575505,\n",
       "  -0.034589868,\n",
       "  -0.06362581,\n",
       "  0.009995121,\n",
       "  -0.042662002,\n",
       "  -0.02880391,\n",
       "  0.005019279,\n",
       "  0.04640387,\n",
       "  -0.05357687,\n",
       "  -0.017727721,\n",
       "  0.043407507,\n",
       "  -0.049362663,\n",
       "  -0.0042483853,\n",
       "  0.055410534,\n",
       "  -0.034522086,\n",
       "  -0.020923868,\n",
       "  0.042291015,\n",
       "  0.017911522,\n",
       "  -0.006100538,\n",
       "  -0.01349674,\n",
       "  -0.06435083,\n",
       "  0.028234744,\n",
       "  0.038322926,\n",
       "  0.018983278,\n",
       "  0.035985656,\n",
       "  0.061374597,\n",
       "  -0.0026718697,\n",
       "  0.026535418,\n",
       "  -0.053422075,\n",
       "  0.0046214103,\n",
       "  0.008673896,\n",
       "  0.02543213,\n",
       "  0.038804892,\n",
       "  -0.028914021,\n",
       "  -0.004621989,\n",
       "  0.051613443,\n",
       "  0.031446878,\n",
       "  0.03536409,\n",
       "  0.044677354,\n",
       "  -0.0017266765,\n",
       "  0.07522361,\n",
       "  -0.017769251,\n",
       "  0.032995,\n",
       "  0.01564582,\n",
       "  -0.01615716,\n",
       "  0.017057996,\n",
       "  0.018835997,\n",
       "  0.00950105,\n",
       "  -0.010275082,\n",
       "  -0.05978768,\n",
       "  -0.049998086,\n",
       "  0.026353221,\n",
       "  0.07459712,\n",
       "  0.096534126,\n",
       "  0.034693163,\n",
       "  0.00078412646,\n",
       "  0.035645463,\n",
       "  0.0056498353,\n",
       "  0.029393006,\n",
       "  0.028966717,\n",
       "  -0.016193552,\n",
       "  0.025405945,\n",
       "  -0.010862087,\n",
       "  0.07083745,\n",
       "  -0.071211256,\n",
       "  0.014715584,\n",
       "  0.07471772,\n",
       "  -0.032936618,\n",
       "  -0.037937135,\n",
       "  -0.014863091,\n",
       "  -0.07113604,\n",
       "  0.0035906732,\n",
       "  0.06712549,\n",
       "  -0.022360543,\n",
       "  -0.035963263,\n",
       "  0.035250362,\n",
       "  -0.020370064,\n",
       "  0.01853359,\n",
       "  0.042074297,\n",
       "  0.0040342254,\n",
       "  0.00095662184,\n",
       "  0.03994507,\n",
       "  0.025137968,\n",
       "  -0.041547127,\n",
       "  -0.021993285,\n",
       "  0.0062147146,\n",
       "  -0.0045706145,\n",
       "  0.020968717,\n",
       "  -0.033775296,\n",
       "  0.007959584,\n",
       "  -0.027898712,\n",
       "  -0.037005197,\n",
       "  -0.031019751,\n",
       "  -0.02324274,\n",
       "  0.029209863,\n",
       "  -0.0015589563,\n",
       "  -0.048583414,\n",
       "  -0.013097384,\n",
       "  0.009847014,\n",
       "  -0.039668724,\n",
       "  0.004144672,\n",
       "  0.061571904,\n",
       "  0.008527001,\n",
       "  -0.05479516,\n",
       "  0.04918973,\n",
       "  0.009059554,\n",
       "  -0.03087653,\n",
       "  0.0062459605,\n",
       "  -0.02174688,\n",
       "  0.0076157725,\n",
       "  -0.053552054,\n",
       "  -0.03086283,\n",
       "  -0.04084526,\n",
       "  0.05526424,\n",
       "  0.011822013,\n",
       "  -0.014288595,\n",
       "  -0.0033998815,\n",
       "  -0.047608286,\n",
       "  -0.014291139,\n",
       "  0.09355301,\n",
       "  -0.00917785,\n",
       "  -0.008701275,\n",
       "  0.021809291,\n",
       "  -0.011793569,\n",
       "  0.055967,\n",
       "  -0.03378834,\n",
       "  -0.052977704,\n",
       "  0.02005347,\n",
       "  -0.027291315,\n",
       "  0.036789645,\n",
       "  -0.0029317006,\n",
       "  0.012617825,\n",
       "  0.029867288,\n",
       "  -0.015488839,\n",
       "  0.016841976,\n",
       "  0.00947172,\n",
       "  0.030261608,\n",
       "  -0.018880313,\n",
       "  -0.01743343,\n",
       "  0.009444164,\n",
       "  -0.02029308,\n",
       "  0.026301539,\n",
       "  -0.00048198123,\n",
       "  0.043068863,\n",
       "  -0.0011751052,\n",
       "  0.017792221,\n",
       "  0.027135165,\n",
       "  -0.069624886,\n",
       "  0.013105479,\n",
       "  0.09054569,\n",
       "  0.034260023,\n",
       "  -0.0065665673,\n",
       "  0.070232555,\n",
       "  -0.0163782,\n",
       "  -0.009437196,\n",
       "  0.03709067,\n",
       "  -0.0012091253,\n",
       "  0.030188834,\n",
       "  -0.029406486,\n",
       "  0.04569242,\n",
       "  0.028048748,\n",
       "  0.024473192,\n",
       "  -0.057183784,\n",
       "  -0.04504406,\n",
       "  -0.03679264,\n",
       "  0.04550841,\n",
       "  -0.00610912,\n",
       "  0.06893105,\n",
       "  -0.010947628,\n",
       "  -0.05327837,\n",
       "  -0.013742046,\n",
       "  -0.027710365,\n",
       "  -0.08629759,\n",
       "  0.01951499,\n",
       "  -0.047770314,\n",
       "  0.018972337,\n",
       "  -0.04018319,\n",
       "  0.0017770769,\n",
       "  0.040779524,\n",
       "  -0.008720724,\n",
       "  -0.021950796,\n",
       "  -0.026709778,\n",
       "  -0.007238356,\n",
       "  -0.010671401,\n",
       "  0.0057500894,\n",
       "  -0.061549623,\n",
       "  0.009038002,\n",
       "  0.0029216108,\n",
       "  0.030386453,\n",
       "  -0.039849855,\n",
       "  0.025224099,\n",
       "  0.00822683,\n",
       "  -0.0129234195,\n",
       "  0.013546894,\n",
       "  -0.0019493623,\n",
       "  0.07441305,\n",
       "  0.027147979,\n",
       "  -0.06312412,\n",
       "  0.050086606,\n",
       "  0.009534593,\n",
       "  0.041762225,\n",
       "  -0.020413352,\n",
       "  0.0130307255,\n",
       "  0.004977703,\n",
       "  -0.061564762,\n",
       "  -0.02802894,\n",
       "  0.020901488,\n",
       "  -0.04941389,\n",
       "  -0.033884387,\n",
       "  -0.05507114,\n",
       "  0.039988153,\n",
       "  -0.048973996,\n",
       "  -0.007271636,\n",
       "  -0.0059808483,\n",
       "  -0.018498458,\n",
       "  0.056804482,\n",
       "  0.024430316,\n",
       "  -0.018993886,\n",
       "  -0.0041878605,\n",
       "  -0.07838625,\n",
       "  0.0015688613,\n",
       "  -0.09298502,\n",
       "  -0.006849242,\n",
       "  0.012620742,\n",
       "  -0.024149029,\n",
       "  -0.05361543,\n",
       "  0.03501774,\n",
       "  0.0047676573,\n",
       "  0.0068806354,\n",
       "  0.032433946,\n",
       "  -0.02658461,\n",
       "  -0.014062233,\n",
       "  0.032395996,\n",
       "  0.051073987,\n",
       "  -0.04102127,\n",
       "  0.015744088,\n",
       "  0.007500533,\n",
       "  0.06023863,\n",
       "  -0.005490225,\n",
       "  0.05491397,\n",
       "  0.014635157,\n",
       "  -0.0075395615,\n",
       "  -0.010500155,\n",
       "  0.035102315,\n",
       "  0.007886668,\n",
       "  0.012432943,\n",
       "  -0.03601224,\n",
       "  0.020336175,\n",
       "  -0.03824571,\n",
       "  0.021860676,\n",
       "  -0.049333308,\n",
       "  0.014293895,\n",
       "  -0.017579762,\n",
       "  0.034137387,\n",
       "  -0.10876139,\n",
       "  -0.012498154,\n",
       "  -0.0520836,\n",
       "  -0.024020154,\n",
       "  0.015524273,\n",
       "  0.0141196465,\n",
       "  -0.03686155,\n",
       "  -0.0353092,\n",
       "  0.016285386,\n",
       "  -0.031124236,\n",
       "  -0.042166643,\n",
       "  0.06418689,\n",
       "  0.067895144,\n",
       "  0.05788035,\n",
       "  0.008259869,\n",
       "  0.07021649,\n",
       "  -0.0004047653,\n",
       "  0.041227385,\n",
       "  -0.012478841,\n",
       "  -0.03561404,\n",
       "  0.05019991,\n",
       "  -0.05414497,\n",
       "  -0.0061813053,\n",
       "  -0.027078336,\n",
       "  0.029119732,\n",
       "  0.02739807,\n",
       "  0.0057052504,\n",
       "  -0.020920252,\n",
       "  0.0058239526,\n",
       "  0.0021392866,\n",
       "  -0.01594444,\n",
       "  0.020587748,\n",
       "  -0.03858879,\n",
       "  0.06228535,\n",
       "  0.026933307,\n",
       "  -0.026655598,\n",
       "  0.025281457,\n",
       "  -0.033791885,\n",
       "  0.014791622,\n",
       "  0.009801064,\n",
       "  -0.04553785,\n",
       "  -0.014310261,\n",
       "  0.026420586,\n",
       "  0.012093782,\n",
       "  0.034565795,\n",
       "  0.027460609,\n",
       "  0.04310303,\n",
       "  -0.008119052,\n",
       "  0.0069077266,\n",
       "  -0.018782936,\n",
       "  0.048822753,\n",
       "  0.011499198,\n",
       "  -0.03692722,\n",
       "  0.028695276,\n",
       "  -0.06646585,\n",
       "  0.033519696,\n",
       "  0.07769669,\n",
       "  0.0021176673,\n",
       "  0.007907892,\n",
       "  -0.0134175485,\n",
       "  0.0047897683,\n",
       "  -0.06269546,\n",
       "  0.008434247,\n",
       "  0.06864979,\n",
       "  -0.025747558,\n",
       "  -0.06637074,\n",
       "  -0.043042663,\n",
       "  -0.00717924,\n",
       "  -0.06414008,\n",
       "  0.017642293,\n",
       "  0.014564438,\n",
       "  -0.014844589,\n",
       "  -0.058264107,\n",
       "  -0.022882754,\n",
       "  0.007677665,\n",
       "  -0.019069577,\n",
       "  -0.009902993,\n",
       "  -0.07085609,\n",
       "  -0.044395234,\n",
       "  -0.022119522,\n",
       "  0.03759968,\n",
       "  -0.045430787,\n",
       "  -0.009692217,\n",
       "  0.027024256,\n",
       "  -0.03598623,\n",
       "  -0.020607702,\n",
       "  0.013879762,\n",
       "  -0.0012494883,\n",
       "  -0.05836281,\n",
       "  -0.026359953,\n",
       "  0.032576345,\n",
       "  0.02485294,\n",
       "  -0.0027547684,\n",
       "  0.014579966,\n",
       "  0.036581784,\n",
       "  0.002586465,\n",
       "  -0.037498575,\n",
       "  0.00059944385,\n",
       "  0.012395959,\n",
       "  -0.06313271,\n",
       "  -0.0023744702,\n",
       "  0.039272837,\n",
       "  -0.012924862,\n",
       "  0.006851665,\n",
       "  0.054137684,\n",
       "  -0.041452106,\n",
       "  0.008580081,\n",
       "  -0.013910538,\n",
       "  -0.027149701,\n",
       "  -0.001410835,\n",
       "  0.003945384,\n",
       "  -0.036098473,\n",
       "  0.0066165365,\n",
       "  -0.08610715,\n",
       "  0.04786577,\n",
       "  -0.09120818,\n",
       "  -0.03129367,\n",
       "  -0.04666523,\n",
       "  -0.06091732,\n",
       "  -0.04282159,\n",
       "  -0.014289722,\n",
       "  0.05606726,\n",
       "  -0.0025890735,\n",
       "  -0.004296158,\n",
       "  -0.0039134435,\n",
       "  -0.004098336,\n",
       "  0.006503205,\n",
       "  -0.087207824,\n",
       "  0.03303702,\n",
       "  -0.0117179975,\n",
       "  0.0040833284,\n",
       "  -0.034096986,\n",
       "  0.045790106,\n",
       "  0.03963797,\n",
       "  -0.00704195,\n",
       "  -0.02437262,\n",
       "  -0.019872215,\n",
       "  0.005664928,\n",
       "  -0.049645685,\n",
       "  -0.024220685,\n",
       "  -0.07584252,\n",
       "  0.069287494,\n",
       "  -0.045718953,\n",
       "  -0.0064474805,\n",
       "  0.024680257,\n",
       "  -0.008962888,\n",
       "  -0.01063816,\n",
       "  0.023255017,\n",
       "  -0.009981314,\n",
       "  0.018788012,\n",
       "  -0.0064771716,\n",
       "  -0.015697671,\n",
       "  -0.0027847174,\n",
       "  0.04165036,\n",
       "  0.013004813,\n",
       "  -0.021008698,\n",
       "  0.0045689624,\n",
       "  -0.030116113,\n",
       "  -0.021096982,\n",
       "  0.012064189,\n",
       "  -0.016853107,\n",
       "  0.066997156,\n",
       "  0.036400326,\n",
       "  0.0113103315,\n",
       "  -0.007122694,\n",
       "  -0.030114476,\n",
       "  -0.01163289,\n",
       "  -0.002239288,\n",
       "  0.07711667,\n",
       "  -0.07432762,\n",
       "  -0.01111093,\n",
       "  0.056213576,\n",
       "  0.03902651,\n",
       "  -0.01968769,\n",
       "  0.026822237,\n",
       "  0.021891028,\n",
       "  -0.00085550797,\n",
       "  0.031205047,\n",
       "  0.039916232,\n",
       "  -0.044069268,\n",
       "  -0.0062809354,\n",
       "  0.011291541,\n",
       "  0.0058107334,\n",
       "  -0.013573785,\n",
       "  0.0060359007,\n",
       "  -0.009004944,\n",
       "  -0.07602904,\n",
       "  -0.01791637,\n",
       "  0.024090463,\n",
       "  -0.058463667,\n",
       "  0.0052391216,\n",
       "  0.007944,\n",
       "  -0.04561997,\n",
       "  0.0053520584,\n",
       "  -0.044875592,\n",
       "  0.055129766,\n",
       "  -0.05096198,\n",
       "  -0.03240903,\n",
       "  0.05000528,\n",
       "  0.011525674,\n",
       "  0.021132438,\n",
       "  0.016404523,\n",
       "  -0.027521413,\n",
       "  -0.030546589,\n",
       "  0.030096894,\n",
       "  -0.018573444,\n",
       "  0.032470323,\n",
       "  0.01856771,\n",
       "  -0.06547487,\n",
       "  0.0129553275,\n",
       "  0.008109255,\n",
       "  -0.064919546,\n",
       "  0.008868157,\n",
       "  -0.0023447624,\n",
       "  0.0011681772,\n",
       "  0.043072056,\n",
       "  0.038187277,\n",
       "  -0.035475258,\n",
       "  0.02803243,\n",
       "  -0.0035584972,\n",
       "  -0.009010439,\n",
       "  -0.007431628,\n",
       "  0.026156932,\n",
       "  -0.021171719,\n",
       "  0.005842652,\n",
       "  0.004742777,\n",
       "  0.008752737,\n",
       "  0.02807506,\n",
       "  0.069980614,\n",
       "  0.021116775,\n",
       "  -0.030509155,\n",
       "  -0.029035136,\n",
       "  0.039250005,\n",
       "  -0.010364519,\n",
       "  -0.030494854,\n",
       "  -0.011408947,\n",
       "  0.020576129,\n",
       "  0.010382916,\n",
       "  0.051679295,\n",
       "  0.005270786,\n",
       "  -0.08210386,\n",
       "  -0.012545452,\n",
       "  -0.020635512,\n",
       "  -0.012223549,\n",
       "  0.0594127,\n",
       "  -0.020667735,\n",
       "  -0.0043238443,\n",
       "  0.087628625,\n",
       "  -0.01307249,\n",
       "  0.022164192,\n",
       "  0.06775209,\n",
       "  0.036268957,\n",
       "  0.016790448,\n",
       "  0.017169114,\n",
       "  -0.05566436,\n",
       "  0.024205446,\n",
       "  -0.06083932,\n",
       "  -0.00084308075,\n",
       "  0.0026822314,\n",
       "  0.006887226,\n",
       "  0.03913353,\n",
       "  -0.021773038,\n",
       "  -0.035040256,\n",
       "  -0.025963522,\n",
       "  0.004081261,\n",
       "  -0.029643767,\n",
       "  0.043645743,\n",
       "  -0.041510925,\n",
       "  0.05590629,\n",
       "  0.031437334,\n",
       "  -0.0008600881,\n",
       "  0.02347945,\n",
       "  0.002083173,\n",
       "  0.066638865,\n",
       "  -0.0018612152,\n",
       "  -0.02153652,\n",
       "  -0.0052138036,\n",
       "  -0.038498174,\n",
       "  -0.006032271,\n",
       "  -0.06136719,\n",
       "  0.06118125,\n",
       "  -0.0049876175,\n",
       "  -0.030475922,\n",
       "  -0.045034006,\n",
       "  -0.035416394,\n",
       "  0.014006306,\n",
       "  0.032610577,\n",
       "  -0.037733667,\n",
       "  0.004344274,\n",
       "  0.0006944629,\n",
       "  -0.06319349,\n",
       "  -0.014404652,\n",
       "  0.09257801,\n",
       "  0.038222957,\n",
       "  0.03751667,\n",
       "  0.069083646,\n",
       "  -0.017398914,\n",
       "  0.021611402,\n",
       "  -0.03865603,\n",
       "  -0.0038635836,\n",
       "  -0.0196395,\n",
       "  0.019965554,\n",
       "  0.02406434,\n",
       "  0.0054902835,\n",
       "  -0.06072084,\n",
       "  -0.004868867,\n",
       "  0.01094021,\n",
       "  0.008885317,\n",
       "  -0.0072341836,\n",
       "  0.06778486,\n",
       "  0.02592685,\n",
       "  -0.09289323,\n",
       "  -0.07625424,\n",
       "  -0.0010790748,\n",
       "  -0.011531019,\n",
       "  -0.008685032,\n",
       "  0.0037747554,\n",
       "  -0.0189425,\n",
       "  0.028705433,\n",
       "  0.01094172,\n",
       "  -0.024513895,\n",
       "  -0.046207838,\n",
       "  0.03592959,\n",
       "  -0.022903083,\n",
       "  -0.036889732,\n",
       "  -0.0022512523,\n",
       "  -0.019710029,\n",
       "  0.0055577704,\n",
       "  0.009338112,\n",
       "  -0.008721534,\n",
       "  -0.04733097,\n",
       "  -0.07182518,\n",
       "  -0.012530148,\n",
       "  0.030459886,\n",
       "  -0.07470424,\n",
       "  0.014933192,\n",
       "  0.058164738,\n",
       "  0.009444789,\n",
       "  0.052725807,\n",
       "  -0.012289315,\n",
       "  0.00764628,\n",
       "  0.047626663,\n",
       "  0.01196922,\n",
       "  0.015734008,\n",
       "  0.05500789,\n",
       "  0.011074836,\n",
       "  -0.034665138,\n",
       "  0.02901715,\n",
       "  -0.00869524,\n",
       "  0.03740047,\n",
       "  -0.00063957757,\n",
       "  -0.0030459655,\n",
       "  -0.04445706,\n",
       "  -0.06443009,\n",
       "  0.01219389,\n",
       "  -0.022040702,\n",
       "  -0.011921059,\n",
       "  0.052356504,\n",
       "  0.026180612,\n",
       "  0.042634856,\n",
       "  -0.009375141,\n",
       "  0.002802191,\n",
       "  0.019607984,\n",
       "  0.05075705,\n",
       "  -0.005858334,\n",
       "  -0.028558593,\n",
       "  -0.02231598,\n",
       "  0.052140284,\n",
       "  0.023616472,\n",
       "  0.018242147,\n",
       "  0.03588318,\n",
       "  0.022760216,\n",
       "  0.039895136,\n",
       "  0.04133877,\n",
       "  0.028684117,\n",
       "  -0.05001206,\n",
       "  -0.05082112,\n",
       "  0.060855508,\n",
       "  0.020449648,\n",
       "  -0.037164055,\n",
       "  0.010690196,\n",
       "  0.056790706,\n",
       "  -0.04386062,\n",
       "  0.08741804,\n",
       "  0.03377724,\n",
       "  0.021680765,\n",
       "  0.015593054,\n",
       "  -0.028364275,\n",
       "  -0.061363995,\n",
       "  0.08327852,\n",
       "  -0.031021394,\n",
       "  -0.0039393515,\n",
       "  -0.02010464,\n",
       "  -0.033084843,\n",
       "  0.04586168,\n",
       "  -0.0049060867,\n",
       "  -0.021199182,\n",
       "  0.031780995,\n",
       "  -0.015371385,\n",
       "  0.086758815,\n",
       "  0.030223314,\n",
       "  0.025547951,\n",
       "  -0.004718239,\n",
       "  -0.08207176,\n",
       "  -0.03570273,\n",
       "  0.0015868505,\n",
       "  0.028992912,\n",
       "  0.04641306,\n",
       "  0.027688337,\n",
       "  -0.029250512,\n",
       "  0.00041545628,\n",
       "  -0.051505763,\n",
       "  0.012661637,\n",
       "  -0.07092978,\n",
       "  -0.019534428,\n",
       "  -0.006503089,\n",
       "  -0.043536752,\n",
       "  0.017029228,\n",
       "  0.0617522,\n",
       "  -0.016426098,\n",
       "  -0.0071669617,\n",
       "  -0.029631475,\n",
       "  0.007459044,\n",
       "  0.028361643,\n",
       "  -0.027339714,\n",
       "  -0.016630223,\n",
       "  0.004466809,\n",
       "  0.009695154,\n",
       "  0.021821544,\n",
       "  0.0111656515,\n",
       "  -0.030756408,\n",
       "  0.005560215]]"
      ]
     },
     "execution_count": 13,
     "metadata": {},
     "output_type": "execute_result"
    }
   ],
   "source": [
    "embed_text(df)"
   ]
  },
  {
   "cell_type": "markdown",
   "id": "5d605881-c926-4cc6-be07-7caba9d6e36a",
   "metadata": {},
   "source": [
    "# storing the embeddings in my dataframe"
   ]
  },
  {
   "cell_type": "markdown",
   "id": "5863efc8-94eb-4666-b0dc-499c8f743553",
   "metadata": {},
   "source": [
    "## Step 4: Storing  Embeddings"
   ]
  },
  {
   "cell_type": "code",
   "execution_count": 14,
   "id": "71d6fb00-e113-492b-ab1f-a15af769c92d",
   "metadata": {
    "execution": {
     "iopub.execute_input": "2025-01-12T14:00:46.802047Z",
     "iopub.status.busy": "2025-01-12T14:00:46.801652Z",
     "iopub.status.idle": "2025-01-12T14:00:47.359718Z",
     "shell.execute_reply": "2025-01-12T14:00:47.359112Z",
     "shell.execute_reply.started": "2025-01-12T14:00:46.802021Z"
    },
    "tags": []
   },
   "outputs": [],
   "source": [
    "df['Embeddings'] = df['Text'].apply(embed_text)"
   ]
  },
  {
   "cell_type": "code",
   "execution_count": 15,
   "id": "2fdffa6c-8a5d-4120-87ed-93d6314a0cc5",
   "metadata": {
    "execution": {
     "iopub.execute_input": "2025-01-12T14:00:47.361219Z",
     "iopub.status.busy": "2025-01-12T14:00:47.360789Z",
     "iopub.status.idle": "2025-01-12T14:00:47.370977Z",
     "shell.execute_reply": "2025-01-12T14:00:47.369964Z",
     "shell.execute_reply.started": "2025-01-12T14:00:47.361191Z"
    },
    "tags": []
   },
   "outputs": [
    {
     "data": {
      "text/html": [
       "<div>\n",
       "<style scoped>\n",
       "    .dataframe tbody tr th:only-of-type {\n",
       "        vertical-align: middle;\n",
       "    }\n",
       "\n",
       "    .dataframe tbody tr th {\n",
       "        vertical-align: top;\n",
       "    }\n",
       "\n",
       "    .dataframe thead th {\n",
       "        text-align: right;\n",
       "    }\n",
       "</style>\n",
       "<table border=\"1\" class=\"dataframe\">\n",
       "  <thead>\n",
       "    <tr style=\"text-align: right;\">\n",
       "      <th></th>\n",
       "      <th>Title</th>\n",
       "      <th>Text</th>\n",
       "      <th>Embeddings</th>\n",
       "    </tr>\n",
       "  </thead>\n",
       "  <tbody>\n",
       "    <tr>\n",
       "      <th>0</th>\n",
       "      <td>product_data</td>\n",
       "      <td># TechStyle Global - Product Catalog  ## Consu...</td>\n",
       "      <td>[0.04988395, -0.029523415, -0.012447186, -0.03...</td>\n",
       "    </tr>\n",
       "    <tr>\n",
       "      <th>1</th>\n",
       "      <td>company_data</td>\n",
       "      <td># TechStyle Global - Company Overview  Founded...</td>\n",
       "      <td>[0.068495, -0.018913778, -0.030388031, -0.0293...</td>\n",
       "    </tr>\n",
       "    <tr>\n",
       "      <th>2</th>\n",
       "      <td>shipping_data</td>\n",
       "      <td># TechStyle Global - Shipping Policy  ## Deliv...</td>\n",
       "      <td>[0.043810476, -0.02836824, -0.019548077, -0.03...</td>\n",
       "    </tr>\n",
       "  </tbody>\n",
       "</table>\n",
       "</div>"
      ],
      "text/plain": [
       "           Title                                               Text  \\\n",
       "0   product_data  # TechStyle Global - Product Catalog  ## Consu...   \n",
       "1   company_data  # TechStyle Global - Company Overview  Founded...   \n",
       "2  shipping_data  # TechStyle Global - Shipping Policy  ## Deliv...   \n",
       "\n",
       "                                          Embeddings  \n",
       "0  [0.04988395, -0.029523415, -0.012447186, -0.03...  \n",
       "1  [0.068495, -0.018913778, -0.030388031, -0.0293...  \n",
       "2  [0.043810476, -0.02836824, -0.019548077, -0.03...  "
      ]
     },
     "execution_count": 15,
     "metadata": {},
     "output_type": "execute_result"
    }
   ],
   "source": [
    "df"
   ]
  },
  {
   "cell_type": "code",
   "execution_count": null,
   "id": "7f98c3d1",
   "metadata": {
    "collapsed": true,
    "jupyter": {
     "outputs_hidden": true
    }
   },
   "outputs": [],
   "source": []
  },
  {
   "cell_type": "markdown",
   "id": "106f59b3-dea5-45a3-adf4-11a4d35c14e9",
   "metadata": {},
   "source": [
    "## NOTE:  note that this can also be done using chromadb or pinecoin. In the specialist session i'll use chromadb to store embeddings "
   ]
  },
  {
   "cell_type": "code",
   "execution_count": 16,
   "id": "a989183f-96d0-49f3-ab47-3ad273af5f43",
   "metadata": {
    "execution": {
     "iopub.execute_input": "2025-01-12T14:00:48.234057Z",
     "iopub.status.busy": "2025-01-12T14:00:48.233676Z",
     "iopub.status.idle": "2025-01-12T14:00:48.243048Z",
     "shell.execute_reply": "2025-01-12T14:00:48.242359Z",
     "shell.execute_reply.started": "2025-01-12T14:00:48.234033Z"
    },
    "tags": []
   },
   "outputs": [
    {
     "name": "stdout",
     "output_type": "stream",
     "text": [
      "<class 'pandas.core.frame.DataFrame'>\n",
      "RangeIndex: 3 entries, 0 to 2\n",
      "Data columns (total 3 columns):\n",
      " #   Column      Non-Null Count  Dtype \n",
      "---  ------      --------------  ----- \n",
      " 0   Title       3 non-null      object\n",
      " 1   Text        3 non-null      object\n",
      " 2   Embeddings  3 non-null      object\n",
      "dtypes: object(3)\n",
      "memory usage: 200.0+ bytes\n"
     ]
    }
   ],
   "source": [
    "df.info()"
   ]
  },
  {
   "cell_type": "code",
   "execution_count": null,
   "id": "0bead37e-3bc7-4c93-965e-a6e6727f12a2",
   "metadata": {},
   "outputs": [],
   "source": []
  },
  {
   "cell_type": "markdown",
   "id": "2d0d855b-e6c0-42da-bffc-c1e08a2dafbf",
   "metadata": {},
   "source": [
    "## Step 5: Similarity Searching approach"
   ]
  },
  {
   "cell_type": "code",
   "execution_count": 17,
   "id": "d98050d2-a4ec-4515-924e-6c7bb1c74479",
   "metadata": {
    "execution": {
     "iopub.execute_input": "2025-01-12T14:00:49.085607Z",
     "iopub.status.busy": "2025-01-12T14:00:49.085213Z",
     "iopub.status.idle": "2025-01-12T14:00:49.089606Z",
     "shell.execute_reply": "2025-01-12T14:00:49.088945Z",
     "shell.execute_reply.started": "2025-01-12T14:00:49.085579Z"
    }
   },
   "outputs": [],
   "source": [
    "\n",
    "\n",
    "def query_similarity_score(query,vector):\n",
    "    '''\n",
    "    INPUTS:\n",
    "        query: str: The user prompt\n",
    "        vector: array: The existing vector embedding from a document\n",
    "    OUTPUT:\n",
    "        score: float - Cosine similarity score\n",
    "    '''\n",
    "    query_embedding = embed_text(query)\n",
    "    return np.dot(query_embedding,vector)"
   ]
  },
  {
   "cell_type": "code",
   "execution_count": 18,
   "id": "844ff1b3-f0d8-4862-a408-1f9f0b8ded1a",
   "metadata": {
    "execution": {
     "iopub.execute_input": "2025-01-12T14:00:49.309473Z",
     "iopub.status.busy": "2025-01-12T14:00:49.309127Z",
     "iopub.status.idle": "2025-01-12T14:00:49.313005Z",
     "shell.execute_reply": "2025-01-12T14:00:49.312197Z",
     "shell.execute_reply.started": "2025-01-12T14:00:49.309449Z"
    }
   },
   "outputs": [],
   "source": [
    "query = \"What is the name of the company?\""
   ]
  },
  {
   "cell_type": "code",
   "execution_count": 19,
   "id": "bf180614-ce00-44a1-b13d-a2b34f0b2779",
   "metadata": {
    "execution": {
     "iopub.execute_input": "2025-01-12T14:00:49.521409Z",
     "iopub.status.busy": "2025-01-12T14:00:49.521037Z",
     "iopub.status.idle": "2025-01-12T14:00:50.015883Z",
     "shell.execute_reply": "2025-01-12T14:00:50.015245Z",
     "shell.execute_reply.started": "2025-01-12T14:00:49.521381Z"
    }
   },
   "outputs": [],
   "source": [
    "df['Similarity'] = df['Embeddings'].apply(lambda vector: query_similarity_score(query,vector))"
   ]
  },
  {
   "cell_type": "code",
   "execution_count": 20,
   "id": "5f3efd41-ceae-48d9-bb1c-2d862176f2d2",
   "metadata": {
    "execution": {
     "iopub.execute_input": "2025-01-12T14:00:50.017338Z",
     "iopub.status.busy": "2025-01-12T14:00:50.017057Z",
     "iopub.status.idle": "2025-01-12T14:00:50.027471Z",
     "shell.execute_reply": "2025-01-12T14:00:50.026677Z",
     "shell.execute_reply.started": "2025-01-12T14:00:50.017317Z"
    }
   },
   "outputs": [
    {
     "data": {
      "text/html": [
       "<div>\n",
       "<style scoped>\n",
       "    .dataframe tbody tr th:only-of-type {\n",
       "        vertical-align: middle;\n",
       "    }\n",
       "\n",
       "    .dataframe tbody tr th {\n",
       "        vertical-align: top;\n",
       "    }\n",
       "\n",
       "    .dataframe thead th {\n",
       "        text-align: right;\n",
       "    }\n",
       "</style>\n",
       "<table border=\"1\" class=\"dataframe\">\n",
       "  <thead>\n",
       "    <tr style=\"text-align: right;\">\n",
       "      <th></th>\n",
       "      <th>Title</th>\n",
       "      <th>Text</th>\n",
       "      <th>Embeddings</th>\n",
       "      <th>Similarity</th>\n",
       "    </tr>\n",
       "  </thead>\n",
       "  <tbody>\n",
       "    <tr>\n",
       "      <th>0</th>\n",
       "      <td>product_data</td>\n",
       "      <td># TechStyle Global - Product Catalog  ## Consu...</td>\n",
       "      <td>[0.04988395, -0.029523415, -0.012447186, -0.03...</td>\n",
       "      <td>0.643179</td>\n",
       "    </tr>\n",
       "    <tr>\n",
       "      <th>1</th>\n",
       "      <td>company_data</td>\n",
       "      <td># TechStyle Global - Company Overview  Founded...</td>\n",
       "      <td>[0.068495, -0.018913778, -0.030388031, -0.0293...</td>\n",
       "      <td>0.628646</td>\n",
       "    </tr>\n",
       "    <tr>\n",
       "      <th>2</th>\n",
       "      <td>shipping_data</td>\n",
       "      <td># TechStyle Global - Shipping Policy  ## Deliv...</td>\n",
       "      <td>[0.043810476, -0.02836824, -0.019548077, -0.03...</td>\n",
       "      <td>0.656525</td>\n",
       "    </tr>\n",
       "  </tbody>\n",
       "</table>\n",
       "</div>"
      ],
      "text/plain": [
       "           Title                                               Text  \\\n",
       "0   product_data  # TechStyle Global - Product Catalog  ## Consu...   \n",
       "1   company_data  # TechStyle Global - Company Overview  Founded...   \n",
       "2  shipping_data  # TechStyle Global - Shipping Policy  ## Deliv...   \n",
       "\n",
       "                                          Embeddings  Similarity  \n",
       "0  [0.04988395, -0.029523415, -0.012447186, -0.03...    0.643179  \n",
       "1  [0.068495, -0.018913778, -0.030388031, -0.0293...    0.628646  \n",
       "2  [0.043810476, -0.02836824, -0.019548077, -0.03...    0.656525  "
      ]
     },
     "execution_count": 20,
     "metadata": {},
     "output_type": "execute_result"
    }
   ],
   "source": [
    "df"
   ]
  },
  {
   "cell_type": "code",
   "execution_count": 21,
   "id": "30df1d2a-b1da-483e-b1eb-48e2468fa0c7",
   "metadata": {
    "execution": {
     "iopub.execute_input": "2025-01-12T14:00:50.028763Z",
     "iopub.status.busy": "2025-01-12T14:00:50.028451Z",
     "iopub.status.idle": "2025-01-12T14:00:50.036732Z",
     "shell.execute_reply": "2025-01-12T14:00:50.035967Z",
     "shell.execute_reply.started": "2025-01-12T14:00:50.028741Z"
    }
   },
   "outputs": [
    {
     "data": {
      "text/html": [
       "<div>\n",
       "<style scoped>\n",
       "    .dataframe tbody tr th:only-of-type {\n",
       "        vertical-align: middle;\n",
       "    }\n",
       "\n",
       "    .dataframe tbody tr th {\n",
       "        vertical-align: top;\n",
       "    }\n",
       "\n",
       "    .dataframe thead th {\n",
       "        text-align: right;\n",
       "    }\n",
       "</style>\n",
       "<table border=\"1\" class=\"dataframe\">\n",
       "  <thead>\n",
       "    <tr style=\"text-align: right;\">\n",
       "      <th></th>\n",
       "      <th>Title</th>\n",
       "      <th>Text</th>\n",
       "    </tr>\n",
       "  </thead>\n",
       "  <tbody>\n",
       "    <tr>\n",
       "      <th>2</th>\n",
       "      <td>shipping_data</td>\n",
       "      <td># TechStyle Global - Shipping Policy  ## Deliv...</td>\n",
       "    </tr>\n",
       "    <tr>\n",
       "      <th>0</th>\n",
       "      <td>product_data</td>\n",
       "      <td># TechStyle Global - Product Catalog  ## Consu...</td>\n",
       "    </tr>\n",
       "    <tr>\n",
       "      <th>1</th>\n",
       "      <td>company_data</td>\n",
       "      <td># TechStyle Global - Company Overview  Founded...</td>\n",
       "    </tr>\n",
       "  </tbody>\n",
       "</table>\n",
       "</div>"
      ],
      "text/plain": [
       "           Title                                               Text\n",
       "2  shipping_data  # TechStyle Global - Shipping Policy  ## Deliv...\n",
       "0   product_data  # TechStyle Global - Product Catalog  ## Consu...\n",
       "1   company_data  # TechStyle Global - Company Overview  Founded..."
      ]
     },
     "execution_count": 21,
     "metadata": {},
     "output_type": "execute_result"
    }
   ],
   "source": [
    "df.sort_values('Similarity',ascending=False)[['Title','Text']]"
   ]
  },
  {
   "cell_type": "code",
   "execution_count": null,
   "id": "2f65d5e7-2de7-43e3-99da-f74f609cf573",
   "metadata": {},
   "outputs": [],
   "source": []
  },
  {
   "cell_type": "markdown",
   "id": "927558ca-32d0-4280-aad6-3aaf50657bd8",
   "metadata": {},
   "source": [
    "## Creating a simple function that returns the most similar document based on the user prompt "
   ]
  },
  {
   "cell_type": "code",
   "execution_count": 22,
   "id": "8d8f2672-d8c0-4ee9-9056-3c7a0eeb8da3",
   "metadata": {
    "execution": {
     "iopub.execute_input": "2025-01-12T14:00:50.617778Z",
     "iopub.status.busy": "2025-01-12T14:00:50.617411Z",
     "iopub.status.idle": "2025-01-12T14:00:50.622398Z",
     "shell.execute_reply": "2025-01-12T14:00:50.621693Z",
     "shell.execute_reply.started": "2025-01-12T14:00:50.617751Z"
    }
   },
   "outputs": [],
   "source": [
    "\n",
    "def most_similar_document(query):\n",
    "    df['Similarity'] = df['Embeddings'].apply(lambda vector: query_similarity_score(query,vector))\n",
    "    title = df.sort_values('Similarity',ascending=False)[['Title','Text']].iloc[0]['Title']\n",
    "    text = df.sort_values('Similarity',ascending=False)[['Title','Text']].iloc[0]['Text']\n",
    "    return title,text"
   ]
  },
  {
   "cell_type": "code",
   "execution_count": null,
   "id": "ae48c147",
   "metadata": {},
   "outputs": [],
   "source": []
  },
  {
   "cell_type": "markdown",
   "id": "872f0566",
   "metadata": {},
   "source": [
    "## Answer the case study Questions and  return the most similiar document that can answer them"
   ]
  },
  {
   "cell_type": "code",
   "execution_count": null,
   "id": "b4a935dd",
   "metadata": {},
   "outputs": [],
   "source": []
  },
  {
   "cell_type": "code",
   "execution_count": 23,
   "id": "dc545670-c436-4229-b128-ffcabf3df4c3",
   "metadata": {
    "execution": {
     "iopub.execute_input": "2025-01-12T14:00:50.893386Z",
     "iopub.status.busy": "2025-01-12T14:00:50.893046Z",
     "iopub.status.idle": "2025-01-12T14:00:50.897006Z",
     "shell.execute_reply": "2025-01-12T14:00:50.896237Z",
     "shell.execute_reply.started": "2025-01-12T14:00:50.893358Z"
    }
   },
   "outputs": [],
   "source": [
    "query1 = \"What is the name of the company?\""
   ]
  },
  {
   "cell_type": "code",
   "execution_count": 24,
   "id": "5c91dfed-36a8-443a-ab43-1cb6444919a8",
   "metadata": {
    "execution": {
     "iopub.execute_input": "2025-01-12T14:00:51.177655Z",
     "iopub.status.busy": "2025-01-12T14:00:51.177254Z",
     "iopub.status.idle": "2025-01-12T14:00:51.666507Z",
     "shell.execute_reply": "2025-01-12T14:00:51.665668Z",
     "shell.execute_reply.started": "2025-01-12T14:00:51.177629Z"
    },
    "scrolled": true
   },
   "outputs": [
    {
     "data": {
      "text/plain": [
       "('shipping_data',\n",
       " '# TechStyle Global - Shipping Policy  ## Delivery Options  ### Standard Shipping - Delivery Time: 3-5 business days - Cost: Free for orders over $50 - Orders under $50: $4.99 - Available in: United States and Canada - Tracking provided via email  ### Express Shipping - Delivery Time: 1-2 business days - Cost: $9.99 - Free for TechStyle Plus members - Available in: United States and Canada - Real-time tracking via app and email  ### International Shipping - Delivery Time: 7-14 business days - Cost: Calculated based on:   - Destination country   - Package weight   - Package dimensions - Available in: 50+ countries - Tracking provided where available  ## Order Processing  ### Processing Times - In-stock items: 1-2 business days - Custom orders: 3-5 business days - Pre-orders: As specified on product page - Business days are Monday-Friday, excluding holidays  ### Cut-off Times - Orders placed before 2 PM EST: Same-day processing - Orders placed after 2 PM EST: Next business day processing - Express orders before 11 AM EST: Same-day shipping  ## Shipping Restrictions  ### Restricted Items - Batteries and power banks - Aerosol products - Certain electronics - Please check specific product pages for restrictions  ### Restricted Locations - Some PO boxes - APO/FPO addresses - Certain international locations - Please contact support for detailed information  ## Tracking Your Order  ### Tracking Information - Provided via email once order ships - Available in your TechStyle account - Updates at major shipping milestones - Live chat support for tracking questions  ### Lost Packages - Domestic: Investigation after 5 business days - International: Investigation after 14 business days - Claims must be filed within 30 days of shipment  ## Special Circumstances  ### Weather Delays - Delivery times may be affected by severe weather - Notifications sent for significant delays - Safety of packages prioritized during extreme conditions  ### Holiday Shipping - Extended processing times during peak seasons - Holiday cut-off dates posted in October - Special holiday shipping rates may apply  ## International Orders  ### Customs & Duties - Import duties not included in shipping cost - Buyer responsible for customs fees - Local taxes may apply - Delivery times may vary due to customs  ### International Returns - Return shipping labels provided for defective items - Customer pays return shipping for non-defective items - 45-day return window for international orders  ## TechStyle Plus Benefits  ### Member Privileges - Free express shipping on all orders - Priority processing - Exclusive holiday shipping rates - Early access to pre-orders  ### Premium Support - Dedicated shipping support line - Priority claim processing - Special handling requests accepted  ## Contact Information  ### Shipping Support - Email: shipping@techstyle.com - Phone: 1-800-TECH-STYLE (Option 2) - Live Chat: Available 24/7 - Response Time: Within 24 hours  ### Claims Department - Email: claims@techstyle.com - Phone: 1-800-TECH-STYLE (Option 3) - Claim Forms: Available in account dashboard  ## Policy Updates - Last Updated: December 2024 - Changes will be notified via email - Policy updates posted 30 days in advance - Historic policies available upon request')"
      ]
     },
     "execution_count": 24,
     "metadata": {},
     "output_type": "execute_result"
    }
   ],
   "source": [
    "most_similar_document(query1)"
   ]
  },
  {
   "cell_type": "code",
   "execution_count": null,
   "id": "e09f5a88-86b6-4de6-a1df-7c8b12a42221",
   "metadata": {},
   "outputs": [],
   "source": []
  },
  {
   "cell_type": "code",
   "execution_count": 25,
   "id": "f400eaf6-d219-4ae3-899e-e6fee49b3b1f",
   "metadata": {
    "execution": {
     "iopub.execute_input": "2025-01-12T14:00:51.668049Z",
     "iopub.status.busy": "2025-01-12T14:00:51.667759Z",
     "iopub.status.idle": "2025-01-12T14:00:51.671636Z",
     "shell.execute_reply": "2025-01-12T14:00:51.670812Z",
     "shell.execute_reply.started": "2025-01-12T14:00:51.668028Z"
    }
   },
   "outputs": [],
   "source": [
    "query2 = \"What types of products do they sell?\""
   ]
  },
  {
   "cell_type": "code",
   "execution_count": null,
   "id": "6c700e34-544a-4e42-856d-0a7b045fb82d",
   "metadata": {},
   "outputs": [],
   "source": []
  },
  {
   "cell_type": "code",
   "execution_count": 26,
   "id": "72c79f42-c2db-41ce-b334-e4c6ad614e9d",
   "metadata": {
    "execution": {
     "iopub.execute_input": "2025-01-12T14:00:52.158640Z",
     "iopub.status.busy": "2025-01-12T14:00:52.158259Z",
     "iopub.status.idle": "2025-01-12T14:00:52.643487Z",
     "shell.execute_reply": "2025-01-12T14:00:52.642649Z",
     "shell.execute_reply.started": "2025-01-12T14:00:52.158613Z"
    },
    "scrolled": true
   },
   "outputs": [
    {
     "data": {
      "text/plain": [
       "('product_data',\n",
       " '# TechStyle Global - Product Catalog  ## Consumer Electronics  ### Smartphones & Accessories - TechStyle Smartphone Stand Pro   - Price: $29.99   - Adjustable aluminum stand   - Compatible with all smartphones   - Colors: Silver, Black, Rose Gold  - Premium Screen Protector Set   - Price: $19.99   - 9H hardness tempered glass   - Oleophobic coating   - Pack of 3  - Wireless Charging Pad   - Price: $39.99   - 15W fast charging   - LED charging indicator   - Compatible with Qi devices  ### Laptops & Computing - PowerBook Pro 15\"   - Price: $1299.99   - Intel i7 processor   - 16GB RAM   - 512GB SSD   - NVIDIA Graphics  - UltraBook Air 13\"   - Price: $899.99   - AMD Ryzen 5   - 8GB RAM   - 256GB SSD   - 18-hour battery life  - Laptop Accessories Bundle   - Price: $79.99   - Wireless mouse   - Laptop sleeve   - USB-C hub   - Cleaning kit  ## Smart Home Devices  ### Security - SmartCam Pro   - Price: $149.99   - 2K resolution   - Night vision   - Two-way audio   - Cloud storage included  - Smart Door Lock   - Price: $199.99   - Fingerprint sensor   - PIN code entry   - Smartphone control   - Battery backup  ### Home Automation - Smart Light Starter Kit   - Price: $89.99   - 4 smart bulbs   - Hub included   - Voice control   - 16 million colors  - Smart Thermostat   - Price: $129.99   - Energy saving   - Schedule programming   - Remote control   - Usage analytics  ## Wearable Technology  ### Fitness Trackers - FitStyle Pro   - Price: $149.99   - Heart rate monitoring   - Sleep tracking   - 7-day battery life   - Water resistant  - SportBand Lite   - Price: $79.99   - Step counting   - Basic sleep tracking   - 14-day battery life   - 5 color options  ### Smartwatches - TechWatch Premium   - Price: $299.99   - AMOLED display   - ECG monitoring   - GPS   - 50+ sport modes  - TechWatch Lite   - Price: $199.99   - LCD display   - Heart rate monitoring   - Basic fitness tracking   - 2-week battery life  ## TechStyle Basics (Private Label)  ### Cables & Chargers - Premium USB-C Cable   - Price: $14.99   - 6ft length   - Braided nylon   - Fast charging   - Colors: Black, White  - Power Bank 10000mAh   - Price: $34.99   - Dual USB ports   - Fast charging   - LED indicator   - Compact design  ### Audio - TechStyle Wireless Earbuds   - Price: $69.99   - 24-hour battery   - Touch controls   - Water resistant   - Noise isolation  - TechStyle Over-Ear Headphones   - Price: $89.99   - Bluetooth 5.0   - 30-hour battery   - Foldable design   - Carrying case included  ## Special Offers  ### TechStyle Plus Member Benefits - 10% discount on all products - Free express shipping - Early access to new products - Extended warranty - Priority customer support  ### Bundles - Work From Home Bundle   - Price: $1499.99   - UltraBook Air 13\"   - Wireless Mouse   - External Monitor   - Desk Stand   - Webcam  - Smart Home Starter Bundle   - Price: $299.99   - SmartCam Pro   - Smart Light Kit   - Smart Plug (2-pack)   - Voice Assistant  ### Warranty Information - All products include standard 1-year warranty - TechStyle Plus members get additional 1-year warranty - 30-day money-back guarantee - Free technical support  ### Shipping Options - Standard Shipping (3-5 days): Free over $50 - Express Shipping (1-2 days): $9.99 - International Shipping: Available to select countries - TechStyle Plus members get free express shipping')"
      ]
     },
     "execution_count": 26,
     "metadata": {},
     "output_type": "execute_result"
    }
   ],
   "source": [
    "most_similar_document(query2)"
   ]
  },
  {
   "cell_type": "code",
   "execution_count": null,
   "id": "b3e1abf6-a598-4e67-86b9-5967e0e61867",
   "metadata": {},
   "outputs": [],
   "source": []
  },
  {
   "cell_type": "markdown",
   "id": "3a7496e6-2b50-467c-b05c-a66c51c9aca3",
   "metadata": {},
   "source": [
    "## Step 6: Inject Text as Context using RAG"
   ]
  },
  {
   "cell_type": "code",
   "execution_count": null,
   "id": "eac9b09d",
   "metadata": {},
   "outputs": [],
   "source": []
  },
  {
   "cell_type": "markdown",
   "id": "3b726cba",
   "metadata": {},
   "source": [
    "## Compiling the RAG system and prompt engineering "
   ]
  },
  {
   "cell_type": "code",
   "execution_count": 27,
   "id": "f93445e9-8113-4f0b-9112-a2ddee877761",
   "metadata": {
    "execution": {
     "iopub.execute_input": "2025-01-12T14:00:53.653568Z",
     "iopub.status.busy": "2025-01-12T14:00:53.653181Z",
     "iopub.status.idle": "2025-01-12T14:00:53.657872Z",
     "shell.execute_reply": "2025-01-12T14:00:53.657037Z",
     "shell.execute_reply.started": "2025-01-12T14:00:53.653541Z"
    }
   },
   "outputs": [],
   "source": [
    "def RAG(query):\n",
    "    title,text = most_similar_document(query)\n",
    "    model = genai.GenerativeModel('gemini-pro')\n",
    "    prompt = f'Answer this query:\\n{query}.\\nOnly use this context to answer:\\n{text}'\n",
    "    response = model.generate_content(prompt)\n",
    "    return f'{response.text}\\n\\nSource Document:{title}'"
   ]
  },
  {
   "cell_type": "markdown",
   "id": "d04156f6-61f9-4de0-8dfd-b460f1034dc1",
   "metadata": {},
   "source": []
  },
  {
   "cell_type": "markdown",
   "id": "909ec6c2",
   "metadata": {},
   "source": [
    "### Using the RAG the system to answer the questions correctly "
   ]
  },
  {
   "cell_type": "code",
   "execution_count": null,
   "id": "1caa3bff",
   "metadata": {},
   "outputs": [],
   "source": []
  },
  {
   "cell_type": "code",
   "execution_count": 39,
   "id": "0063dfc7-545f-4df5-ae42-2cfa3533fdb5",
   "metadata": {
    "execution": {
     "iopub.execute_input": "2025-01-12T14:00:54.717270Z",
     "iopub.status.busy": "2025-01-12T14:00:54.716890Z",
     "iopub.status.idle": "2025-01-12T14:00:55.893798Z",
     "shell.execute_reply": "2025-01-12T14:00:55.893119Z",
     "shell.execute_reply.started": "2025-01-12T14:00:54.717245Z"
    },
    "scrolled": true
   },
   "outputs": [
    {
     "name": "stdout",
     "output_type": "stream",
     "text": [
      "TechStyle Global\n",
      "\n",
      "Source Document:shipping_data\n"
     ]
    }
   ],
   "source": [
    "print(RAG(\"What is the name of the company?\"))"
   ]
  },
  {
   "cell_type": "code",
   "execution_count": null,
   "id": "9cadb66a-be57-4142-9707-57672d8ee518",
   "metadata": {},
   "outputs": [],
   "source": []
  },
  {
   "cell_type": "code",
   "execution_count": 40,
   "id": "309bb1a5-0260-47c5-88ea-92d319234620",
   "metadata": {
    "execution": {
     "iopub.execute_input": "2025-01-12T14:01:01.746185Z",
     "iopub.status.busy": "2025-01-12T14:01:01.745810Z",
     "iopub.status.idle": "2025-01-12T14:01:03.254175Z",
     "shell.execute_reply": "2025-01-12T14:01:03.253385Z",
     "shell.execute_reply.started": "2025-01-12T14:01:01.746157Z"
    }
   },
   "outputs": [
    {
     "name": "stdout",
     "output_type": "stream",
     "text": [
      "- Smartphones & Accessories\n",
      "- Laptops & Computing\n",
      "- Smart Home Devices\n",
      "- Wearable Technology\n",
      "- TechStyle Basics (Private Label)\n",
      "- Special Offers\n",
      "\n",
      "Source Document:product_data\n"
     ]
    }
   ],
   "source": [
    "print(RAG(\"What types of products do they sell?\"))"
   ]
  },
  {
   "cell_type": "markdown",
   "id": "a809aa14-a3f7-47b4-85ff-3e1e9e8454a4",
   "metadata": {},
   "source": [
    "## The system has answered our question correctly"
   ]
  },
  {
   "cell_type": "code",
   "execution_count": null,
   "id": "e4466d7d-8477-4489-8250-197a6c1cc8f7",
   "metadata": {},
   "outputs": [],
   "source": []
  },
  {
   "cell_type": "markdown",
   "id": "efeea3ea-fa99-4a3d-bf2e-8aae0866e4d4",
   "metadata": {},
   "source": [
    "# Level 2: The Specialist\n",
    "\n",
    " -- Requirements:\n",
    "\n",
    " * Use HuggingFace for LLM interaction\n",
    "* langchain\n",
    "* Basic text input/output interface"
   ]
  },
  {
   "cell_type": "markdown",
   "id": "479a4b45-8cda-4aa7-9bb9-a99c9e4052d0",
   "metadata": {},
   "source": [
    "### At the end of this level the system should be able to Handle more complex customer queries using the txt files\n",
    "* Product specific queries\n",
    "* Shipping queries"
   ]
  },
  {
   "cell_type": "code",
   "execution_count": 66,
   "id": "10f73575-31fc-461c-b7fe-77d92ea1b9fa",
   "metadata": {
    "execution": {
     "iopub.execute_input": "2025-01-13T14:45:19.748133Z",
     "iopub.status.busy": "2025-01-13T14:45:19.747739Z",
     "iopub.status.idle": "2025-01-13T14:45:20.582253Z",
     "shell.execute_reply": "2025-01-13T14:45:20.581231Z",
     "shell.execute_reply.started": "2025-01-13T14:45:19.748108Z"
    },
    "tags": []
   },
   "outputs": [],
   "source": [
    "# import neccessary libraries\n",
    "\n",
    "import os\n",
    "from langchain_google_genai import  ChatGoogleGenerativeAI\n",
    "from langchain_google_genai import GoogleGenerativeAIEmbeddings\n",
    "from langchain.prompts  import PromptTemplate\n",
    "from IPython.display import Markdown\n",
    "from langchain.document_loaders import TextLoader\n",
    "from langchain.chains.combine_documents import create_stuff_documents_chain\n",
    "from langchain.chains.retrieval import create_retrieval_chain\n",
    "from langchain.vectorstores import Chroma\n",
    "import torch"
   ]
  },
  {
   "cell_type": "code",
   "execution_count": null,
   "id": "bcd78820",
   "metadata": {},
   "outputs": [],
   "source": []
  },
  {
   "cell_type": "code",
   "execution_count": 30,
   "id": "c27d2ea7-69fc-4b4c-9edb-53958e575deb",
   "metadata": {
    "execution": {
     "iopub.execute_input": "2025-01-12T16:48:58.119579Z",
     "iopub.status.busy": "2025-01-12T16:48:58.119180Z",
     "iopub.status.idle": "2025-01-12T16:48:58.123416Z",
     "shell.execute_reply": "2025-01-12T16:48:58.122721Z",
     "shell.execute_reply.started": "2025-01-12T16:48:58.119555Z"
    },
    "tags": []
   },
   "outputs": [],
   "source": [
    "### Authenticating my GOOGLE ADC\n",
    "\n",
    "os.environ[\"GOOGLE_APPLICATION_CREDENTIALS\"] = \"horizontal-veld-446019-m0-cf19f12da986.json\""
   ]
  },
  {
   "cell_type": "code",
   "execution_count": 31,
   "id": "8604d1bb-ca70-4919-af76-ee25ed5d69cf",
   "metadata": {
    "execution": {
     "iopub.execute_input": "2025-01-13T14:45:33.113349Z",
     "iopub.status.busy": "2025-01-13T14:45:33.112915Z",
     "iopub.status.idle": "2025-01-13T14:45:33.143131Z",
     "shell.execute_reply": "2025-01-13T14:45:33.142580Z",
     "shell.execute_reply.started": "2025-01-13T14:45:33.113323Z"
    },
    "tags": []
   },
   "outputs": [],
   "source": [
    "model = ChatGoogleGenerativeAI(model=\"gemini-pro\")"
   ]
  },
  {
   "cell_type": "code",
   "execution_count": 32,
   "id": "66e5f1eb-8e06-4db2-829a-49ace782dd7c",
   "metadata": {
    "execution": {
     "iopub.execute_input": "2025-01-13T14:45:33.347798Z",
     "iopub.status.busy": "2025-01-13T14:45:33.347401Z",
     "iopub.status.idle": "2025-01-13T14:45:33.359583Z",
     "shell.execute_reply": "2025-01-13T14:45:33.359019Z",
     "shell.execute_reply.started": "2025-01-13T14:45:33.347773Z"
    },
    "tags": []
   },
   "outputs": [],
   "source": [
    "embeddings = GoogleGenerativeAIEmbeddings(model = \"models/embedding-001\")"
   ]
  },
  {
   "cell_type": "code",
   "execution_count": null,
   "id": "d64f4946",
   "metadata": {},
   "outputs": [],
   "source": []
  },
  {
   "cell_type": "code",
   "execution_count": 34,
   "id": "3f234e24-e696-42af-8178-b88b48eeffa4",
   "metadata": {
    "execution": {
     "iopub.execute_input": "2025-01-13T14:45:33.646033Z",
     "iopub.status.busy": "2025-01-13T14:45:33.645643Z",
     "iopub.status.idle": "2025-01-13T14:45:33.652262Z",
     "shell.execute_reply": "2025-01-13T14:45:33.651668Z",
     "shell.execute_reply.started": "2025-01-13T14:45:33.646008Z"
    },
    "tags": []
   },
   "outputs": [],
   "source": [
    "## Using the TextLoader to load and store them in a folder caller document \n",
    "\n",
    "file_paths = [\"products.txt\", \"company.txt\", \"shipping.txt\"]\n",
    "\n",
    "# Load all text files\n",
    "documents = []\n",
    "for file_path in file_paths:\n",
    "    loader = TextLoader(file_path)\n",
    "    documents.extend(loader.load())"
   ]
  },
  {
   "cell_type": "code",
   "execution_count": 35,
   "id": "35afcdcd-3541-498d-8914-d7288a450101",
   "metadata": {
    "execution": {
     "iopub.execute_input": "2025-01-13T15:36:38.926477Z",
     "iopub.status.busy": "2025-01-13T15:36:38.926098Z",
     "iopub.status.idle": "2025-01-13T15:36:38.931882Z",
     "shell.execute_reply": "2025-01-13T15:36:38.931049Z",
     "shell.execute_reply.started": "2025-01-13T15:36:38.926453Z"
    }
   },
   "outputs": [
    {
     "data": {
      "text/plain": [
       "[Document(metadata={'source': 'products.txt'}, page_content='# TechStyle Global - Product Catalog\\n\\n## Consumer Electronics\\n\\n### Smartphones & Accessories\\n- TechStyle Smartphone Stand Pro\\n  - Price: $29.99\\n  - Adjustable aluminum stand\\n  - Compatible with all smartphones\\n  - Colors: Silver, Black, Rose Gold\\n\\n- Premium Screen Protector Set\\n  - Price: $19.99\\n  - 9H hardness tempered glass\\n  - Oleophobic coating\\n  - Pack of 3\\n\\n- Wireless Charging Pad\\n  - Price: $39.99\\n  - 15W fast charging\\n  - LED charging indicator\\n  - Compatible with Qi devices\\n\\n### Laptops & Computing\\n- PowerBook Pro 15\"\\n  - Price: $1299.99\\n  - Intel i7 processor\\n  - 16GB RAM\\n  - 512GB SSD\\n  - NVIDIA Graphics\\n\\n- UltraBook Air 13\"\\n  - Price: $899.99\\n  - AMD Ryzen 5\\n  - 8GB RAM\\n  - 256GB SSD\\n  - 18-hour battery life\\n\\n- Laptop Accessories Bundle\\n  - Price: $79.99\\n  - Wireless mouse\\n  - Laptop sleeve\\n  - USB-C hub\\n  - Cleaning kit\\n\\n## Smart Home Devices\\n\\n### Security\\n- SmartCam Pro\\n  - Price: $149.99\\n  - 2K resolution\\n  - Night vision\\n  - Two-way audio\\n  - Cloud storage included\\n\\n- Smart Door Lock\\n  - Price: $199.99\\n  - Fingerprint sensor\\n  - PIN code entry\\n  - Smartphone control\\n  - Battery backup\\n\\n### Home Automation\\n- Smart Light Starter Kit\\n  - Price: $89.99\\n  - 4 smart bulbs\\n  - Hub included\\n  - Voice control\\n  - 16 million colors\\n\\n- Smart Thermostat\\n  - Price: $129.99\\n  - Energy saving\\n  - Schedule programming\\n  - Remote control\\n  - Usage analytics\\n\\n## Wearable Technology\\n\\n### Fitness Trackers\\n- FitStyle Pro\\n  - Price: $149.99\\n  - Heart rate monitoring\\n  - Sleep tracking\\n  - 7-day battery life\\n  - Water resistant\\n\\n- SportBand Lite\\n  - Price: $79.99\\n  - Step counting\\n  - Basic sleep tracking\\n  - 14-day battery life\\n  - 5 color options\\n\\n### Smartwatches\\n- TechWatch Premium\\n  - Price: $299.99\\n  - AMOLED display\\n  - ECG monitoring\\n  - GPS\\n  - 50+ sport modes\\n\\n- TechWatch Lite\\n  - Price: $199.99\\n  - LCD display\\n  - Heart rate monitoring\\n  - Basic fitness tracking\\n  - 2-week battery life\\n\\n## TechStyle Basics (Private Label)\\n\\n### Cables & Chargers\\n- Premium USB-C Cable\\n  - Price: $14.99\\n  - 6ft length\\n  - Braided nylon\\n  - Fast charging\\n  - Colors: Black, White\\n\\n- Power Bank 10000mAh\\n  - Price: $34.99\\n  - Dual USB ports\\n  - Fast charging\\n  - LED indicator\\n  - Compact design\\n\\n### Audio\\n- TechStyle Wireless Earbuds\\n  - Price: $69.99\\n  - 24-hour battery\\n  - Touch controls\\n  - Water resistant\\n  - Noise isolation\\n\\n- TechStyle Over-Ear Headphones\\n  - Price: $89.99\\n  - Bluetooth 5.0\\n  - 30-hour battery\\n  - Foldable design\\n  - Carrying case included\\n\\n## Special Offers\\n\\n### TechStyle Plus Member Benefits\\n- 10% discount on all products\\n- Free express shipping\\n- Early access to new products\\n- Extended warranty\\n- Priority customer support\\n\\n### Bundles\\n- Work From Home Bundle\\n  - Price: $1499.99\\n  - UltraBook Air 13\"\\n  - Wireless Mouse\\n  - External Monitor\\n  - Desk Stand\\n  - Webcam\\n\\n- Smart Home Starter Bundle\\n  - Price: $299.99\\n  - SmartCam Pro\\n  - Smart Light Kit\\n  - Smart Plug (2-pack)\\n  - Voice Assistant\\n\\n### Warranty Information\\n- All products include standard 1-year warranty\\n- TechStyle Plus members get additional 1-year warranty\\n- 30-day money-back guarantee\\n- Free technical support\\n\\n### Shipping Options\\n- Standard Shipping (3-5 days): Free over $50\\n- Express Shipping (1-2 days): $9.99\\n- International Shipping: Available to select countries\\n- TechStyle Plus members get free express shipping'),\n",
       " Document(metadata={'source': 'company.txt'}, page_content=\"# TechStyle Global - Company Overview\\n\\nFounded in 2015, TechStyle Global is a leading e-commerce marketplace specializing in consumer electronics, fashion, and lifestyle products. Our platform connects millions of customers worldwide with quality products at competitive prices.\\n\\n## Our Story\\nTechStyle began as a small online electronics store in San Francisco, founded by tech entrepreneurs Sarah Chen and Marcus Rodriguez. Their vision was to create a seamless shopping experience that bridges the gap between technology and lifestyle products. Within five years, we expanded globally, now serving customers in over 50 countries.\\n\\n## Mission Statement\\nTo provide accessible, innovative, and sustainable shopping solutions that enhance people's daily lives through technology and style.\\n\\n## Core Values\\n- Customer First: Every decision we make starts with our customers\\n- Innovation: Constantly improving our platform and services\\n- Sustainability: Committed to reducing our environmental impact\\n- Quality: Rigorous standards for all products on our platform\\n- Diversity: Embracing global perspectives and inclusive practices\\n\\n## Our Presence\\n- Headquarters: San Francisco, California\\n- Regional Offices: London, Singapore, Sydney, Toronto\\n- Distribution Centers: United States, United Kingdom, Germany, Japan, Australia\\n- Customer Service: 24/7 support in 12 languages\\n\\n## Key Products & Services\\n- Consumer Electronics: Smartphones, laptops, smart home devices\\n- Fashion Tech: Wearables, smart accessories\\n- Lifestyle Products: Home automation, fitness tech\\n- TechStyle Basics: Our private label for affordable tech accessories\\n- TechStyle Plus: Premium membership program with exclusive benefits\\n\\n## Customer Support\\n- 24/7 Live Chat Support\\n- Email: support@techstyle.com\\n- Phone: 1-800-TECH-STYLE\\n- Social Media: @TechStyleGlobal\\n\\n## Company Statistics\\n- 15+ million active customers\\n- 100,000+ products available\\n- 2,000+ brand partners\\n- 99% order fulfillment rate\\n- 4.8/5 average customer satisfaction\\n\\n## Awards & Recognition\\n- 2023 Best E-commerce Platform - Tech Retail Awards\\n- 2022 Sustainability Leadership Award\\n- 2021 Customer Service Excellence\\n- 2020 Best Online Shopping Experience\\n\\n## Community Initiatives\\n- TechStyle Education: Free tech literacy programs\\n- Green Tech Initiative: Environmental sustainability program\\n- Future Innovators: Supporting tech startups\\n- Community Tech Hub: Local technology education centers\\n\\nContact Information:\\nTechStyle Global, Inc.\\n123 Innovation Drive\\nSan Francisco, CA 94105\\nUnited States\\n\\nGeneral Inquiries: info@techstyle.com\\nBusiness Partnerships: partners@techstyle.com\\nPress: media@techstyle.com\"),\n",
       " Document(metadata={'source': 'shipping.txt'}, page_content='# TechStyle Global - Shipping Policy\\n\\n## Delivery Options\\n\\n### Standard Shipping\\n- Delivery Time: 3-5 business days\\n- Cost: Free for orders over $50\\n- Orders under $50: $4.99\\n- Available in: United States and Canada\\n- Tracking provided via email\\n\\n### Express Shipping\\n- Delivery Time: 1-2 business days\\n- Cost: $9.99\\n- Free for TechStyle Plus members\\n- Available in: United States and Canada\\n- Real-time tracking via app and email\\n\\n### International Shipping\\n- Delivery Time: 7-14 business days\\n- Cost: Calculated based on:\\n  - Destination country\\n  - Package weight\\n  - Package dimensions\\n- Available in: 50+ countries\\n- Tracking provided where available\\n\\n## Order Processing\\n\\n### Processing Times\\n- In-stock items: 1-2 business days\\n- Custom orders: 3-5 business days\\n- Pre-orders: As specified on product page\\n- Business days are Monday-Friday, excluding holidays\\n\\n### Cut-off Times\\n- Orders placed before 2 PM EST: Same-day processing\\n- Orders placed after 2 PM EST: Next business day processing\\n- Express orders before 11 AM EST: Same-day shipping\\n\\n## Shipping Restrictions\\n\\n### Restricted Items\\n- Batteries and power banks\\n- Aerosol products\\n- Certain electronics\\n- Please check specific product pages for restrictions\\n\\n### Restricted Locations\\n- Some PO boxes\\n- APO/FPO addresses\\n- Certain international locations\\n- Please contact support for detailed information\\n\\n## Tracking Your Order\\n\\n### Tracking Information\\n- Provided via email once order ships\\n- Available in your TechStyle account\\n- Updates at major shipping milestones\\n- Live chat support for tracking questions\\n\\n### Lost Packages\\n- Domestic: Investigation after 5 business days\\n- International: Investigation after 14 business days\\n- Claims must be filed within 30 days of shipment\\n\\n## Special Circumstances\\n\\n### Weather Delays\\n- Delivery times may be affected by severe weather\\n- Notifications sent for significant delays\\n- Safety of packages prioritized during extreme conditions\\n\\n### Holiday Shipping\\n- Extended processing times during peak seasons\\n- Holiday cut-off dates posted in October\\n- Special holiday shipping rates may apply\\n\\n## International Orders\\n\\n### Customs & Duties\\n- Import duties not included in shipping cost\\n- Buyer responsible for customs fees\\n- Local taxes may apply\\n- Delivery times may vary due to customs\\n\\n### International Returns\\n- Return shipping labels provided for defective items\\n- Customer pays return shipping for non-defective items\\n- 45-day return window for international orders\\n\\n## TechStyle Plus Benefits\\n\\n### Member Privileges\\n- Free express shipping on all orders\\n- Priority processing\\n- Exclusive holiday shipping rates\\n- Early access to pre-orders\\n\\n### Premium Support\\n- Dedicated shipping support line\\n- Priority claim processing\\n- Special handling requests accepted\\n\\n## Contact Information\\n\\n### Shipping Support\\n- Email: shipping@techstyle.com\\n- Phone: 1-800-TECH-STYLE (Option 2)\\n- Live Chat: Available 24/7\\n- Response Time: Within 24 hours\\n\\n### Claims Department\\n- Email: claims@techstyle.com\\n- Phone: 1-800-TECH-STYLE (Option 3)\\n- Claim Forms: Available in account dashboard\\n\\n## Policy Updates\\n- Last Updated: December 2024\\n- Changes will be notified via email\\n- Policy updates posted 30 days in advance\\n- Historic policies available upon request')]"
      ]
     },
     "execution_count": 35,
     "metadata": {},
     "output_type": "execute_result"
    }
   ],
   "source": [
    "documents"
   ]
  },
  {
   "cell_type": "code",
   "execution_count": 31,
   "id": "0f211425-4897-4bbc-9a03-1d9f6d3cac6a",
   "metadata": {
    "execution": {
     "iopub.execute_input": "2025-01-13T15:36:08.125033Z",
     "iopub.status.busy": "2025-01-13T15:36:08.124580Z",
     "iopub.status.idle": "2025-01-13T15:36:08.129046Z",
     "shell.execute_reply": "2025-01-13T15:36:08.128377Z",
     "shell.execute_reply.started": "2025-01-13T15:36:08.125004Z"
    },
    "tags": []
   },
   "outputs": [
    {
     "name": "stdout",
     "output_type": "stream",
     "text": [
      "{'source': 'products.txt'}\n",
      "{'source': 'company.txt'}\n",
      "{'source': 'shipping.txt'}\n"
     ]
    }
   ],
   "source": [
    "# Loop through the documents and print their metadata\n",
    "for doc in documents:\n",
    "    print(doc.metadata)\n"
   ]
  },
  {
   "cell_type": "code",
   "execution_count": null,
   "id": "13c1b74c",
   "metadata": {},
   "outputs": [],
   "source": []
  },
  {
   "cell_type": "code",
   "execution_count": 36,
   "id": "86685a45-6176-42e0-b402-36a9e499b867",
   "metadata": {
    "execution": {
     "iopub.execute_input": "2025-01-13T14:45:34.539724Z",
     "iopub.status.busy": "2025-01-13T14:45:34.539318Z",
     "iopub.status.idle": "2025-01-13T14:45:35.192068Z",
     "shell.execute_reply": "2025-01-13T14:45:35.191374Z",
     "shell.execute_reply.started": "2025-01-13T14:45:34.539696Z"
    },
    "tags": []
   },
   "outputs": [],
   "source": [
    "## Creating my vector stores using  ChromaDB\n",
    "\n",
    "vectordb = Chroma.from_documents(documents,embeddings)"
   ]
  },
  {
   "cell_type": "code",
   "execution_count": 9,
   "id": "9a1a6b53-83e5-4fda-a402-fb8bf5495979",
   "metadata": {
    "execution": {
     "iopub.execute_input": "2025-01-13T14:45:35.194048Z",
     "iopub.status.busy": "2025-01-13T14:45:35.193654Z",
     "iopub.status.idle": "2025-01-13T14:45:35.199568Z",
     "shell.execute_reply": "2025-01-13T14:45:35.198855Z",
     "shell.execute_reply.started": "2025-01-13T14:45:35.194014Z"
    },
    "tags": []
   },
   "outputs": [
    {
     "data": {
      "text/plain": [
       "<langchain_community.vectorstores.chroma.Chroma at 0x7fc72c4bb400>"
      ]
     },
     "execution_count": 9,
     "metadata": {},
     "output_type": "execute_result"
    }
   ],
   "source": [
    "vectordb"
   ]
  },
  {
   "cell_type": "code",
   "execution_count": 37,
   "id": "57e31d33-c983-432b-aee8-8ec0af25cf1c",
   "metadata": {
    "execution": {
     "iopub.execute_input": "2025-01-13T14:45:35.200682Z",
     "iopub.status.busy": "2025-01-13T14:45:35.200334Z",
     "iopub.status.idle": "2025-01-13T14:45:35.204559Z",
     "shell.execute_reply": "2025-01-13T14:45:35.203837Z",
     "shell.execute_reply.started": "2025-01-13T14:45:35.200661Z"
    },
    "tags": []
   },
   "outputs": [],
   "source": [
    "## Creating the retriver variable and returning top 2 similiar context\n",
    "\n",
    "retriever = vectordb.as_retriever(search_kwargs={\"k\":2})"
   ]
  },
  {
   "cell_type": "code",
   "execution_count": 39,
   "id": "ab7e1cf1-b623-468f-82d1-5f6a22dca40c",
   "metadata": {
    "execution": {
     "iopub.execute_input": "2025-01-13T14:45:35.326270Z",
     "iopub.status.busy": "2025-01-13T14:45:35.326002Z",
     "iopub.status.idle": "2025-01-13T14:45:35.329383Z",
     "shell.execute_reply": "2025-01-13T14:45:35.328648Z",
     "shell.execute_reply.started": "2025-01-13T14:45:35.326250Z"
    },
    "tags": []
   },
   "outputs": [],
   "source": [
    "template =\"\"\"\n",
    "You are a helpful AI assistant\n",
    "Answer based on the context provided.\n",
    "content:{context}\n",
    "input:{input}\n",
    "answer: \n",
    "\"\"\"\n"
   ]
  },
  {
   "cell_type": "code",
   "execution_count": 40,
   "id": "b3e42b31-c8c0-4bca-9c04-375ded1ab260",
   "metadata": {
    "execution": {
     "iopub.execute_input": "2025-01-13T14:45:35.570059Z",
     "iopub.status.busy": "2025-01-13T14:45:35.569747Z",
     "iopub.status.idle": "2025-01-13T14:45:35.573930Z",
     "shell.execute_reply": "2025-01-13T14:45:35.573240Z",
     "shell.execute_reply.started": "2025-01-13T14:45:35.570033Z"
    },
    "tags": []
   },
   "outputs": [],
   "source": [
    "prompt = PromptTemplate.from_template(template)"
   ]
  },
  {
   "cell_type": "code",
   "execution_count": null,
   "id": "a3faee70",
   "metadata": {},
   "outputs": [],
   "source": []
  },
  {
   "cell_type": "markdown",
   "id": "6259821f",
   "metadata": {},
   "source": [
    "####  Combine  model and prompt and chain together with the retriver chain."
   ]
  },
  {
   "cell_type": "code",
   "execution_count": 41,
   "id": "a57371cc-d5ff-4d20-8ca2-0457ee9eb12d",
   "metadata": {
    "execution": {
     "iopub.execute_input": "2025-01-13T14:45:35.794032Z",
     "iopub.status.busy": "2025-01-13T14:45:35.793664Z",
     "iopub.status.idle": "2025-01-13T14:45:35.799996Z",
     "shell.execute_reply": "2025-01-13T14:45:35.799245Z",
     "shell.execute_reply.started": "2025-01-13T14:45:35.794006Z"
    },
    "tags": []
   },
   "outputs": [],
   "source": [
    "combine_docs_chain = create_stuff_documents_chain(model, prompt)"
   ]
  },
  {
   "cell_type": "code",
   "execution_count": 42,
   "id": "1ab07440-8508-42f5-8ed6-ac52e3ab2f46",
   "metadata": {
    "execution": {
     "iopub.execute_input": "2025-01-13T14:45:37.100544Z",
     "iopub.status.busy": "2025-01-13T14:45:37.099860Z",
     "iopub.status.idle": "2025-01-13T14:45:37.104103Z",
     "shell.execute_reply": "2025-01-13T14:45:37.103379Z",
     "shell.execute_reply.started": "2025-01-13T14:45:37.100514Z"
    },
    "tags": []
   },
   "outputs": [],
   "source": [
    "retrieval_chain = create_retrieval_chain(retriever,combine_docs_chain)"
   ]
  },
  {
   "cell_type": "code",
   "execution_count": null,
   "id": "263aea9f",
   "metadata": {},
   "outputs": [],
   "source": []
  },
  {
   "cell_type": "code",
   "execution_count": null,
   "id": "5bed5307",
   "metadata": {},
   "outputs": [],
   "source": []
  },
  {
   "cell_type": "code",
   "execution_count": 45,
   "id": "071a2f30",
   "metadata": {},
   "outputs": [],
   "source": [
    "Question1 = \"What other package offered and how much?\""
   ]
  },
  {
   "cell_type": "code",
   "execution_count": 46,
   "id": "254373c3-8a8d-4f2a-b0c8-aeb9a157fe48",
   "metadata": {
    "execution": {
     "iopub.execute_input": "2025-01-13T14:45:37.377978Z",
     "iopub.status.busy": "2025-01-13T14:45:37.377585Z",
     "iopub.status.idle": "2025-01-13T14:45:38.632353Z",
     "shell.execute_reply": "2025-01-13T14:45:38.631720Z",
     "shell.execute_reply.started": "2025-01-13T14:45:37.377955Z"
    },
    "tags": []
   },
   "outputs": [],
   "source": [
    "response1 = retrieval_chain.invoke({\"input\":Question1})"
   ]
  },
  {
   "cell_type": "code",
   "execution_count": 75,
   "id": "d5c63c65-3d96-4773-8705-1cef03b4f9dd",
   "metadata": {
    "execution": {
     "iopub.execute_input": "2025-01-13T14:45:38.633943Z",
     "iopub.status.busy": "2025-01-13T14:45:38.633540Z",
     "iopub.status.idle": "2025-01-13T14:45:38.638005Z",
     "shell.execute_reply": "2025-01-13T14:45:38.637261Z",
     "shell.execute_reply.started": "2025-01-13T14:45:38.633912Z"
    },
    "tags": []
   },
   "outputs": [
    {
     "name": "stdout",
     "output_type": "stream",
     "text": [
      "- Work From Home Bundle: $1499.99\n",
      "- Smart Home Starter Bundle: $299.99\n"
     ]
    }
   ],
   "source": [
    "print(response1[\"answer\"])"
   ]
  },
  {
   "cell_type": "code",
   "execution_count": null,
   "id": "a374576e-f66f-4567-9a80-90d5787e30a0",
   "metadata": {},
   "outputs": [],
   "source": []
  },
  {
   "cell_type": "code",
   "execution_count": 57,
   "id": "0f3da70a-ed25-4451-a57f-c6d620c4eeac",
   "metadata": {},
   "outputs": [],
   "source": [
    "Question2 = \"What products do they sell?\""
   ]
  },
  {
   "cell_type": "code",
   "execution_count": 58,
   "id": "8cdd67dd",
   "metadata": {},
   "outputs": [],
   "source": [
    "response2 = retrieval_chain.invoke({\"input\":Question2})"
   ]
  },
  {
   "cell_type": "code",
   "execution_count": 65,
   "id": "55d04a85",
   "metadata": {},
   "outputs": [
    {
     "data": {
      "text/markdown": [
       "TechStyle Global sells a wide range of products, including consumer electronics, fashion tech, lifestyle products, TechStyle Basics (private label tech accessories), and TechStyle Plus (premium membership program with exclusive benefits).\n",
       "\n",
       "**Consumer Electronics:**\n",
       "- Smartphones & Accessories\n",
       "- Laptops & Computing\n",
       "- Smart Home Devices\n",
       "\n",
       "**Fashion Tech:**\n",
       "- Wearable Technology\n",
       "- Fitness Trackers\n",
       "- Smartwatches\n",
       "\n",
       "**Lifestyle Products:**\n",
       "- Home Automation\n",
       "- Fitness Tech\n",
       "\n",
       "**TechStyle Basics (Private Label):**\n",
       "- Cables & Chargers\n",
       "- Audio\n",
       "\n",
       "**TechStyle Plus (Premium Membership Program):**\n",
       "- Exclusive benefits such as discounts, free shipping, early access to new products, extended warranty, and priority customer support"
      ],
      "text/plain": [
       "<IPython.core.display.Markdown object>"
      ]
     },
     "metadata": {},
     "output_type": "display_data"
    }
   ],
   "source": [
    "display(Markdown(response2[\"answer\"]))"
   ]
  },
  {
   "cell_type": "code",
   "execution_count": null,
   "id": "618e4175",
   "metadata": {},
   "outputs": [],
   "source": []
  },
  {
   "cell_type": "code",
   "execution_count": 77,
   "id": "141f5d4c",
   "metadata": {},
   "outputs": [
    {
     "data": {
      "text/markdown": [
       "TechStyle Global"
      ],
      "text/plain": [
       "<IPython.core.display.Markdown object>"
      ]
     },
     "metadata": {},
     "output_type": "display_data"
    }
   ],
   "source": [
    "Question3 = \"What's the name of the company \"\n",
    "response3 = retrieval_chain.invoke({\"input\":Question3})\n",
    "display(Markdown(response3[\"answer\"]))"
   ]
  },
  {
   "cell_type": "code",
   "execution_count": null,
   "id": "40247efd",
   "metadata": {},
   "outputs": [],
   "source": []
  },
  {
   "cell_type": "code",
   "execution_count": 78,
   "id": "f688b0ab",
   "metadata": {},
   "outputs": [
    {
     "data": {
      "text/markdown": [
       "**Smartphones & Accessories**\n",
       "- TechStyle Smartphone Stand Pro: $29.99\n",
       "- Premium Screen Protector Set: $19.99\n",
       "- Wireless Charging Pad: $39.99\n",
       "\n",
       "**Laptops & Computing**\n",
       "- PowerBook Pro 15\": $1299.99\n",
       "- UltraBook Air 13\": $899.99\n",
       "- Laptop Accessories Bundle: $79.99\n",
       "\n",
       "**Smart Home Devices**\n",
       "- SmartCam Pro: $149.99\n",
       "- Smart Door Lock: $199.99\n",
       "- Smart Light Starter Kit: $89.99\n",
       "- Smart Thermostat: $129.99\n",
       "\n",
       "**Wearable Technology**\n",
       "- FitStyle Pro: $149.99\n",
       "- SportBand Lite: $79.99\n",
       "- TechWatch Premium: $299.99\n",
       "- TechWatch Lite: $199.99\n",
       "\n",
       "**TechStyle Basics (Private Label)**\n",
       "- Premium USB-C Cable: $14.99\n",
       "- Power Bank 10000mAh: $34.99\n",
       "- TechStyle Wireless Earbuds: $69.99\n",
       "- TechStyle Over-Ear Headphones: $89.99\n",
       "\n",
       "**Bundles**\n",
       "- Work From Home Bundle: $1499.99\n",
       "- Smart Home Starter Bundle: $299.99"
      ],
      "text/plain": [
       "<IPython.core.display.Markdown object>"
      ]
     },
     "metadata": {},
     "output_type": "display_data"
    }
   ],
   "source": [
    "Question4 = \"list all the products and their prices \"\n",
    "response4 = retrieval_chain.invoke({\"input\":Question4})\n",
    "display(Markdown(response4[\"answer\"]))"
   ]
  },
  {
   "cell_type": "code",
   "execution_count": null,
   "id": "620c0641",
   "metadata": {},
   "outputs": [],
   "source": []
  },
  {
   "cell_type": "code",
   "execution_count": 79,
   "id": "bb0a858e",
   "metadata": {},
   "outputs": [
    {
     "data": {
      "text/markdown": [
       "The headquarters of TechStyle Global is located in San Francisco, California. They also have regional offices in London, Singapore, Sydney, and Toronto."
      ],
      "text/plain": [
       "<IPython.core.display.Markdown object>"
      ]
     },
     "metadata": {},
     "output_type": "display_data"
    }
   ],
   "source": [
    "Question5= \"Where is the located \"\n",
    "response5 = retrieval_chain.invoke({\"input\":Question5})\n",
    "display(Markdown(response5[\"answer\"]))"
   ]
  },
  {
   "cell_type": "code",
   "execution_count": null,
   "id": "2352805f",
   "metadata": {},
   "outputs": [],
   "source": []
  },
  {
   "cell_type": "code",
   "execution_count": 80,
   "id": "2e4e9dff",
   "metadata": {},
   "outputs": [
    {
     "data": {
      "text/markdown": [
       "123 Innovation Drive\n",
       "San Francisco, CA 94105\n",
       "United States"
      ],
      "text/plain": [
       "<IPython.core.display.Markdown object>"
      ]
     },
     "metadata": {},
     "output_type": "display_data"
    }
   ],
   "source": [
    "Question6= \"Give me full address \"\n",
    "response6 = retrieval_chain.invoke({\"input\":Question6})\n",
    "display(Markdown(response6[\"answer\"]))"
   ]
  },
  {
   "cell_type": "code",
   "execution_count": null,
   "id": "1c5310c5-6f94-422c-acea-a03ee04f21e9",
   "metadata": {},
   "outputs": [],
   "source": []
  },
  {
   "cell_type": "code",
   "execution_count": null,
   "id": "1c9b3cfa",
   "metadata": {},
   "outputs": [],
   "source": []
  },
  {
   "cell_type": "code",
   "execution_count": null,
   "id": "e119c5f7",
   "metadata": {},
   "outputs": [],
   "source": []
  },
  {
   "cell_type": "code",
   "execution_count": null,
   "id": "cd01820e",
   "metadata": {},
   "outputs": [],
   "source": []
  },
  {
   "cell_type": "code",
   "execution_count": null,
   "id": "032919e2",
   "metadata": {},
   "outputs": [],
   "source": []
  },
  {
   "cell_type": "code",
   "execution_count": null,
   "id": "4afdb5a9",
   "metadata": {},
   "outputs": [],
   "source": []
  },
  {
   "cell_type": "code",
   "execution_count": null,
   "id": "197aab29",
   "metadata": {},
   "outputs": [],
   "source": []
  },
  {
   "cell_type": "code",
   "execution_count": null,
   "id": "6d43910e",
   "metadata": {},
   "outputs": [],
   "source": []
  },
  {
   "cell_type": "code",
   "execution_count": null,
   "id": "c4189e96",
   "metadata": {},
   "outputs": [],
   "source": []
  },
  {
   "cell_type": "code",
   "execution_count": null,
   "id": "db808b78",
   "metadata": {},
   "outputs": [],
   "source": []
  },
  {
   "cell_type": "code",
   "execution_count": null,
   "id": "c03beadb-6bac-4fbe-ad87-dc5a151a3407",
   "metadata": {},
   "outputs": [],
   "source": []
  },
  {
   "cell_type": "code",
   "execution_count": null,
   "id": "8aa390bf-3718-49c8-8806-09f5c98f3932",
   "metadata": {},
   "outputs": [],
   "source": []
  },
  {
   "cell_type": "code",
   "execution_count": null,
   "id": "95cae3fb-93b4-4876-b78c-6adba701c0fb",
   "metadata": {},
   "outputs": [],
   "source": []
  },
  {
   "cell_type": "code",
   "execution_count": null,
   "id": "1f275cf7-3cef-4e06-a514-b22b47e5d719",
   "metadata": {},
   "outputs": [],
   "source": []
  }
 ],
 "metadata": {
  "kernelspec": {
   "display_name": "saturn (Python 3)",
   "language": "python",
   "name": "python3"
  },
  "language_info": {
   "codemirror_mode": {
    "name": "ipython",
    "version": 3
   },
   "file_extension": ".py",
   "mimetype": "text/x-python",
   "name": "python",
   "nbconvert_exporter": "python",
   "pygments_lexer": "ipython3",
   "version": "3.9.13"
  }
 },
 "nbformat": 4,
 "nbformat_minor": 5
}
