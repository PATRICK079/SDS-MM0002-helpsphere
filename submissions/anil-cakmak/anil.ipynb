{
  "cells": [
    {
      "cell_type": "markdown",
      "metadata": {
        "id": "TAEaxxaGmS4K"
      },
      "source": [
        "# Install Required Libraries"
      ]
    },
    {
      "cell_type": "markdown",
      "metadata": {
        "id": "8yO3wGwQVbIM"
      },
      "source": [
        "**QUERY**: \"Could you inform me about the prices of earbuds?\"\n",
        "\n",
        "**ANSWER**\n",
        "\n",
        "**Before RAG**:\n",
        "\n",
        "\"Certainly! TechStyle Global offers a variety of earbuds to suit different preferences and budgets. Here are some options:\n",
        "\n",
        "\n",
        "1. **TechStyle Basic Earbuds**: These are our most affordable earbuds, priced at $29.99. They offer decent sound quality and are great for everyday use.\n",
        "\n",
        "\n",
        "2. **TechStyle Pro Earbuds**: For those looking for a bit more performance, the Pro Earbuds are priced at $49.99. They feature active noise cancellation and a more immersive sound experience.\n",
        "\n",
        "\n",
        "3. **TechStyle Elite Earbuds**: If you're looking for the highest quality, the Elite Earbuds are available for $79.99. They come with superior sound quality, long battery life, and a sleek design.\n",
        "\n",
        "\n",
        "Please note that prices are subject to change and may vary based on location and sales. For the most accurate and up-to-date pricing, you can visit our website or contact our customer service.\"\n",
        "\n",
        "**USING RAG**:\n",
        "\n",
        "\"Certainly! TechStyle offers two types of earbuds. The TechStyle Wireless Earbuds are priced at $69.99 and feature a 24-hour battery life, touch controls, water resistance, and noise isolation. The TechStyle Over-Ear Headphones are slightly more expensive at \\$89.99 and include Bluetooth 5.0, a 30-hour battery life, a foldable design, and a carrying case.\""
      ]
    },
    {
      "cell_type": "code",
      "execution_count": null,
      "metadata": {
        "collapsed": true,
        "id": "57-Y2cI13ueJ"
      },
      "outputs": [],
      "source": [
        "!pip install -q transformers gradio langchain langchain-community langchain-chroma"
      ]
    },
    {
      "cell_type": "markdown",
      "metadata": {
        "id": "PxMZbHMLmjng"
      },
      "source": [
        "# Set Up Hugging Face API Token"
      ]
    },
    {
      "cell_type": "code",
      "execution_count": null,
      "metadata": {
        "id": "7By1z5cxGU7U"
      },
      "outputs": [],
      "source": [
        "from google.colab import userdata\n",
        "HF_TOKEN = userdata.get(\"HF_TOKEN\")"
      ]
    },
    {
      "cell_type": "markdown",
      "metadata": {
        "id": "aPKXERwLm-Vh"
      },
      "source": [
        "# Define Hugging Face API Query Function"
      ]
    },
    {
      "cell_type": "code",
      "execution_count": null,
      "metadata": {
        "id": "ar_DnRzfGU0a"
      },
      "outputs": [],
      "source": [
        "import requests\n",
        "\n",
        "API_URL = \"https://api-inference.huggingface.co/models/microsoft/Phi-3-mini-4k-instruct\"\n",
        "headers = {\"Authorization\": f\"Bearer {HF_TOKEN}\"}\n",
        "\n",
        "def query_hf_model(inputs, context=\"\", max_new_tokens=500, temperature=0.2):\n",
        "\n",
        "    inputs = f\"\"\"<|system|>\n",
        "You are TechStyle Phi, the digital assistant for TechStyle Global, \\\n",
        "dedicated to helping customers with their inquiries about the company. \\\n",
        "Always provide accurate information about TechStyle Global, \\\n",
        "its products, and shipping details.{context}<|end|>\n",
        "<|user|>\n",
        "{inputs}<|end|>\n",
        "<|assistant|>\n",
        "\"\"\"\n",
        "\n",
        "    payload = {\n",
        "        \"inputs\": inputs,\n",
        "        \"parameters\": {\n",
        "            \"max_new_tokens\": max_new_tokens,\n",
        "            \"temperature\": temperature,\n",
        "            \"do_sample\": True,\n",
        "            \"return_full_text\": False,\n",
        "        }\n",
        "    }\n",
        "\n",
        "    try:\n",
        "        response = requests.post(API_URL, headers=headers, json=payload)\n",
        "        response.raise_for_status()\n",
        "        result = response.json()\n",
        "\n",
        "        if isinstance(result, list) and \"generated_text\" in result[0]:\n",
        "            return result[0][\"generated_text\"]\n",
        "\n",
        "        return \"Error: No generated text found in the response.\"\n",
        "\n",
        "    except requests.exceptions.RequestException as e:\n",
        "        return f\"Error: {e}\""
      ]
    },
    {
      "cell_type": "markdown",
      "metadata": {
        "id": "splyfr1opJhK"
      },
      "source": [
        "#  Generate Response Without Retrieval (Before RAG)"
      ]
    },
    {
      "cell_type": "code",
      "execution_count": null,
      "metadata": {
        "colab": {
          "base_uri": "https://localhost:8080/"
        },
        "id": "xNtvIWdgpXyp",
        "outputId": "b046c97d-2a73-4588-a237-0afe3d38305c"
      },
      "outputs": [
        {
          "name": "stdout",
          "output_type": "stream",
          "text": [
            "Response without RAG:\n",
            "\n",
            "Certainly! TechStyle Global offers a variety of earbuds to suit different preferences and budgets. Here are some options:\n",
            "\n",
            "\n",
            "1. **TechStyle Basic Earbuds**: These are our most affordable earbuds, priced at $29.99. They offer decent sound quality and are great for everyday use.\n",
            "\n",
            "\n",
            "2. **TechStyle Pro Earbuds**: For those looking for a bit more performance, the Pro Earbuds are priced at $49.99. They feature active noise cancellation and a more immersive sound experience.\n",
            "\n",
            "\n",
            "3. **TechStyle Elite Earbuds**: If you're looking for the highest quality, the Elite Earbuds are available for $79.99. They come with superior sound quality, long battery life, and a sleek design.\n",
            "\n",
            "\n",
            "Please note that prices are subject to change and may vary based on location and sales. For the most accurate and up-to-date pricing, you can visit our website or contact our customer service.\n"
          ]
        }
      ],
      "source": [
        "input_text = \"Could you inform me about the prices of earbuds?\"\n",
        "response = query_hf_model(input_text)\n",
        "print(\"Response without RAG:\", end=\"\\n\\n\")\n",
        "print(response)"
      ]
    },
    {
      "cell_type": "markdown",
      "metadata": {
        "id": "i69LimZcoBwk"
      },
      "source": [
        "# Load and Process Text Files for Retrieval"
      ]
    },
    {
      "cell_type": "code",
      "execution_count": null,
      "metadata": {
        "colab": {
          "base_uri": "https://localhost:8080/"
        },
        "id": "m9Hc7BRFrSyQ",
        "outputId": "f48e921a-5235-4681-e4b2-f68bad6f5cb1"
      },
      "outputs": [
        {
          "name": "stdout",
          "output_type": "stream",
          "text": [
            "Loaded Text Data: {'company.txt': \"# TechStyle Global - Company Overview\\n\\nFounded in 2015, TechStyle Global is a leading e-commerce marketplace specializing in consumer electronics, fashion, and lifestyle products. Our platform connects millions of customers worldwide with quality products at competitive prices.\\n\\n## Our Story\\nTechStyle began as a small online electronics store in San Francisco, founded by tech entrepreneurs Sarah Chen and Marcus Rodriguez. Their vision was to create a seamless shopping experience that bridges the gap between technology and lifestyle products. Within five years, we expanded globally, now serving customers in over 50 countries.\\n\\n## Mission Statement\\nTo provide accessible, innovative, and sustainable shopping solutions that enhance people's daily lives through technology and style.\\n\\n## Core Values\\n- Customer First: Every decision we make starts with our customers\\n- Innovation: Constantly improving our platform and services\\n- Sustainability: Committed to reducing our environmental impact\\n- Quality: Rigorous standards for all products on our platform\\n- Diversity: Embracing global perspectives and inclusive practices\\n\\n## Our Presence\\n- Headquarters: San Francisco, California\\n- Regional Offices: London, Singapore, Sydney, Toronto\\n- Distribution Centers: United States, United Kingdom, Germany, Japan, Australia\\n- Customer Service: 24/7 support in 12 languages\\n\\n## Key Products & Services\\n- Consumer Electronics: Smartphones, laptops, smart home devices\\n- Fashion Tech: Wearables, smart accessories\\n- Lifestyle Products: Home automation, fitness tech\\n- TechStyle Basics: Our private label for affordable tech accessories\\n- TechStyle Plus: Premium membership program with exclusive benefits\\n\\n## Customer Support\\n- 24/7 Live Chat Support\\n- Email: support@techstyle.com\\n- Phone: 1-800-TECH-STYLE\\n- Social Media: @TechStyleGlobal\\n\\n## Company Statistics\\n- 15+ million active customers\\n- 100,000+ products available\\n- 2,000+ brand partners\\n- 99% order fulfillment rate\\n- 4.8/5 average customer satisfaction\\n\\n## Awards & Recognition\\n- 2023 Best E-commerce Platform - Tech Retail Awards\\n- 2022 Sustainability Leadership Award\\n- 2021 Customer Service Excellence\\n- 2020 Best Online Shopping Experience\\n\\n## Community Initiatives\\n- TechStyle Education: Free tech literacy programs\\n- Green Tech Initiative: Environmental sustainability program\\n- Future Innovators: Supporting tech startups\\n- Community Tech Hub: Local technology education centers\\n\\nContact Information:\\nTechStyle Global, Inc.\\n123 Innovation Drive\\nSan Francisco, CA 94105\\nUnited States\\n\\nGeneral Inquiries: info@techstyle.com\\nBusiness Partnerships: partners@techstyle.com\\nPress: media@techstyle.com\", 'products.txt': '# TechStyle Global - Product Catalog\\n\\n## Consumer Electronics\\n\\n### Smartphones & Accessories\\n- TechStyle Smartphone Stand Pro\\n  - Price: $29.99\\n  - Adjustable aluminum stand\\n  - Compatible with all smartphones\\n  - Colors: Silver, Black, Rose Gold\\n\\n- Premium Screen Protector Set\\n  - Price: $19.99\\n  - 9H hardness tempered glass\\n  - Oleophobic coating\\n  - Pack of 3\\n\\n- Wireless Charging Pad\\n  - Price: $39.99\\n  - 15W fast charging\\n  - LED charging indicator\\n  - Compatible with Qi devices\\n\\n### Laptops & Computing\\n- PowerBook Pro 15\"\\n  - Price: $1299.99\\n  - Intel i7 processor\\n  - 16GB RAM\\n  - 512GB SSD\\n  - NVIDIA Graphics\\n\\n- UltraBook Air 13\"\\n  - Price: $899.99\\n  - AMD Ryzen 5\\n  - 8GB RAM\\n  - 256GB SSD\\n  - 18-hour battery life\\n\\n- Laptop Accessories Bundle\\n  - Price: $79.99\\n  - Wireless mouse\\n  - Laptop sleeve\\n  - USB-C hub\\n  - Cleaning kit\\n\\n## Smart Home Devices\\n\\n### Security\\n- SmartCam Pro\\n  - Price: $149.99\\n  - 2K resolution\\n  - Night vision\\n  - Two-way audio\\n  - Cloud storage included\\n\\n- Smart Door Lock\\n  - Price: $199.99\\n  - Fingerprint sensor\\n  - PIN code entry\\n  - Smartphone control\\n  - Battery backup\\n\\n### Home Automation\\n- Smart Light Starter Kit\\n  - Price: $89.99\\n  - 4 smart bulbs\\n  - Hub included\\n  - Voice control\\n  - 16 million colors\\n\\n- Smart Thermostat\\n  - Price: $129.99\\n  - Energy saving\\n  - Schedule programming\\n  - Remote control\\n  - Usage analytics\\n\\n## Wearable Technology\\n\\n### Fitness Trackers\\n- FitStyle Pro\\n  - Price: $149.99\\n  - Heart rate monitoring\\n  - Sleep tracking\\n  - 7-day battery life\\n  - Water resistant\\n\\n- SportBand Lite\\n  - Price: $79.99\\n  - Step counting\\n  - Basic sleep tracking\\n  - 14-day battery life\\n  - 5 color options\\n\\n### Smartwatches\\n- TechWatch Premium\\n  - Price: $299.99\\n  - AMOLED display\\n  - ECG monitoring\\n  - GPS\\n  - 50+ sport modes\\n\\n- TechWatch Lite\\n  - Price: $199.99\\n  - LCD display\\n  - Heart rate monitoring\\n  - Basic fitness tracking\\n  - 2-week battery life\\n\\n## TechStyle Basics (Private Label)\\n\\n### Cables & Chargers\\n- Premium USB-C Cable\\n  - Price: $14.99\\n  - 6ft length\\n  - Braided nylon\\n  - Fast charging\\n  - Colors: Black, White\\n\\n- Power Bank 10000mAh\\n  - Price: $34.99\\n  - Dual USB ports\\n  - Fast charging\\n  - LED indicator\\n  - Compact design\\n\\n### Audio\\n- TechStyle Wireless Earbuds\\n  - Price: $69.99\\n  - 24-hour battery\\n  - Touch controls\\n  - Water resistant\\n  - Noise isolation\\n\\n- TechStyle Over-Ear Headphones\\n  - Price: $89.99\\n  - Bluetooth 5.0\\n  - 30-hour battery\\n  - Foldable design\\n  - Carrying case included\\n\\n## Special Offers\\n\\n### TechStyle Plus Member Benefits\\n- 10% discount on all products\\n- Free express shipping\\n- Early access to new products\\n- Extended warranty\\n- Priority customer support\\n\\n### Bundles\\n- Work From Home Bundle\\n  - Price: $1499.99\\n  - UltraBook Air 13\"\\n  - Wireless Mouse\\n  - External Monitor\\n  - Desk Stand\\n  - Webcam\\n\\n- Smart Home Starter Bundle\\n  - Price: $299.99\\n  - SmartCam Pro\\n  - Smart Light Kit\\n  - Smart Plug (2-pack)\\n  - Voice Assistant\\n\\n### Warranty Information\\n- All products include standard 1-year warranty\\n- TechStyle Plus members get additional 1-year warranty\\n- 30-day money-back guarantee\\n- Free technical support\\n\\n### Shipping Options\\n- Standard Shipping (3-5 days): Free over $50\\n- Express Shipping (1-2 days): $9.99\\n- International Shipping: Available to select countries\\n- TechStyle Plus members get free express shipping', 'shipping.txt': '# TechStyle Global - Shipping Policy\\n\\n## Delivery Options\\n\\n### Standard Shipping\\n- Delivery Time: 3-5 business days\\n- Cost: Free for orders over $50\\n- Orders under $50: $4.99\\n- Available in: United States and Canada\\n- Tracking provided via email\\n\\n### Express Shipping\\n- Delivery Time: 1-2 business days\\n- Cost: $9.99\\n- Free for TechStyle Plus members\\n- Available in: United States and Canada\\n- Real-time tracking via app and email\\n\\n### International Shipping\\n- Delivery Time: 7-14 business days\\n- Cost: Calculated based on:\\n  - Destination country\\n  - Package weight\\n  - Package dimensions\\n- Available in: 50+ countries\\n- Tracking provided where available\\n\\n## Order Processing\\n\\n### Processing Times\\n- In-stock items: 1-2 business days\\n- Custom orders: 3-5 business days\\n- Pre-orders: As specified on product page\\n- Business days are Monday-Friday, excluding holidays\\n\\n### Cut-off Times\\n- Orders placed before 2 PM EST: Same-day processing\\n- Orders placed after 2 PM EST: Next business day processing\\n- Express orders before 11 AM EST: Same-day shipping\\n\\n## Shipping Restrictions\\n\\n### Restricted Items\\n- Batteries and power banks\\n- Aerosol products\\n- Certain electronics\\n- Please check specific product pages for restrictions\\n\\n### Restricted Locations\\n- Some PO boxes\\n- APO/FPO addresses\\n- Certain international locations\\n- Please contact support for detailed information\\n\\n## Tracking Your Order\\n\\n### Tracking Information\\n- Provided via email once order ships\\n- Available in your TechStyle account\\n- Updates at major shipping milestones\\n- Live chat support for tracking questions\\n\\n### Lost Packages\\n- Domestic: Investigation after 5 business days\\n- International: Investigation after 14 business days\\n- Claims must be filed within 30 days of shipment\\n\\n## Special Circumstances\\n\\n### Weather Delays\\n- Delivery times may be affected by severe weather\\n- Notifications sent for significant delays\\n- Safety of packages prioritized during extreme conditions\\n\\n### Holiday Shipping\\n- Extended processing times during peak seasons\\n- Holiday cut-off dates posted in October\\n- Special holiday shipping rates may apply\\n\\n## International Orders\\n\\n### Customs & Duties\\n- Import duties not included in shipping cost\\n- Buyer responsible for customs fees\\n- Local taxes may apply\\n- Delivery times may vary due to customs\\n\\n### International Returns\\n- Return shipping labels provided for defective items\\n- Customer pays return shipping for non-defective items\\n- 45-day return window for international orders\\n\\n## TechStyle Plus Benefits\\n\\n### Member Privileges\\n- Free express shipping on all orders\\n- Priority processing\\n- Exclusive holiday shipping rates\\n- Early access to pre-orders\\n\\n### Premium Support\\n- Dedicated shipping support line\\n- Priority claim processing\\n- Special handling requests accepted\\n\\n## Contact Information\\n\\n### Shipping Support\\n- Email: shipping@techstyle.com\\n- Phone: 1-800-TECH-STYLE (Option 2)\\n- Live Chat: Available 24/7\\n- Response Time: Within 24 hours\\n\\n### Claims Department\\n- Email: claims@techstyle.com\\n- Phone: 1-800-TECH-STYLE (Option 3)\\n- Claim Forms: Available in account dashboard\\n\\n## Policy Updates\\n- Last Updated: December 2024\\n- Changes will be notified via email\\n- Policy updates posted 30 days in advance\\n- Historic policies available upon request'}\n"
          ]
        }
      ],
      "source": [
        "def load_text_files():\n",
        "    data = {}\n",
        "    for filename in [\"company.txt\", \"products.txt\", \"shipping.txt\"]:\n",
        "        with open(f\"/content/{filename}\", \"r\") as file:\n",
        "            data[filename] = file.read()\n",
        "    return data\n",
        "\n",
        "text_data = load_text_files()\n",
        "print(\"Loaded Text Data:\", text_data)"
      ]
    },
    {
      "cell_type": "markdown",
      "metadata": {
        "id": "nvHmWw34rgvQ"
      },
      "source": [
        "# Split Text Data into Chunks"
      ]
    },
    {
      "cell_type": "code",
      "execution_count": null,
      "metadata": {
        "colab": {
          "base_uri": "https://localhost:8080/"
        },
        "id": "DygkKbnXrduK",
        "outputId": "96ce3317-f1df-45a2-f535-9fe9dd5a5913"
      },
      "outputs": [
        {
          "name": "stdout",
          "output_type": "stream",
          "text": [
            "Split Text Data: [Document(metadata={'Header 1': 'TechStyle Global - Company Overview'}, page_content='# TechStyle Global - Company Overview  \\nFounded in 2015, TechStyle Global is a leading e-commerce marketplace specializing in consumer electronics, fashion, and lifestyle products. Our platform connects millions of customers worldwide with quality products at competitive prices.'), Document(metadata={'Header 1': 'TechStyle Global - Company Overview', 'Header 2': 'Our Story'}, page_content='## Our Story\\nTechStyle began as a small online electronics store in San Francisco, founded by tech entrepreneurs Sarah Chen and Marcus Rodriguez. Their vision was to create a seamless shopping experience that bridges the gap between technology and lifestyle products. Within five years, we expanded globally, now serving customers in over 50 countries.'), Document(metadata={'Header 1': 'TechStyle Global - Company Overview', 'Header 2': 'Mission Statement'}, page_content=\"## Mission Statement\\nTo provide accessible, innovative, and sustainable shopping solutions that enhance people's daily lives through technology and style.\"), Document(metadata={'Header 1': 'TechStyle Global - Company Overview', 'Header 2': 'Core Values'}, page_content='## Core Values\\n- Customer First: Every decision we make starts with our customers\\n- Innovation: Constantly improving our platform and services\\n- Sustainability: Committed to reducing our environmental impact\\n- Quality: Rigorous standards for all products on our platform\\n- Diversity: Embracing global perspectives and inclusive practices'), Document(metadata={'Header 1': 'TechStyle Global - Company Overview', 'Header 2': 'Our Presence'}, page_content='## Our Presence\\n- Headquarters: San Francisco, California\\n- Regional Offices: London, Singapore, Sydney, Toronto\\n- Distribution Centers: United States, United Kingdom, Germany, Japan, Australia\\n- Customer Service: 24/7 support in 12 languages'), Document(metadata={'Header 1': 'TechStyle Global - Company Overview', 'Header 2': 'Key Products & Services'}, page_content='## Key Products & Services\\n- Consumer Electronics: Smartphones, laptops, smart home devices\\n- Fashion Tech: Wearables, smart accessories\\n- Lifestyle Products: Home automation, fitness tech\\n- TechStyle Basics: Our private label for affordable tech accessories\\n- TechStyle Plus: Premium membership program with exclusive benefits'), Document(metadata={'Header 1': 'TechStyle Global - Company Overview', 'Header 2': 'Customer Support'}, page_content='## Customer Support\\n- 24/7 Live Chat Support\\n- Email: support@techstyle.com\\n- Phone: 1-800-TECH-STYLE\\n- Social Media: @TechStyleGlobal'), Document(metadata={'Header 1': 'TechStyle Global - Company Overview', 'Header 2': 'Company Statistics'}, page_content='## Company Statistics\\n- 15+ million active customers\\n- 100,000+ products available\\n- 2,000+ brand partners\\n- 99% order fulfillment rate\\n- 4.8/5 average customer satisfaction'), Document(metadata={'Header 1': 'TechStyle Global - Company Overview', 'Header 2': 'Awards & Recognition'}, page_content='## Awards & Recognition\\n- 2023 Best E-commerce Platform - Tech Retail Awards\\n- 2022 Sustainability Leadership Award\\n- 2021 Customer Service Excellence\\n- 2020 Best Online Shopping Experience'), Document(metadata={'Header 1': 'TechStyle Global - Company Overview', 'Header 2': 'Community Initiatives'}, page_content='## Community Initiatives\\n- TechStyle Education: Free tech literacy programs\\n- Green Tech Initiative: Environmental sustainability program\\n- Future Innovators: Supporting tech startups\\n- Community Tech Hub: Local technology education centers  \\nContact Information:\\nTechStyle Global, Inc.\\n123 Innovation Drive\\nSan Francisco, CA 94105\\nUnited States  \\nGeneral Inquiries: info@techstyle.com\\nBusiness Partnerships: partners@techstyle.com\\nPress: media@techstyle.com'), Document(metadata={'Header 1': 'TechStyle Global - Product Catalog', 'Header 2': 'Consumer Electronics', 'Header 3': 'Smartphones & Accessories'}, page_content='# TechStyle Global - Product Catalog  \\n## Consumer Electronics  \\n### Smartphones & Accessories\\n- TechStyle Smartphone Stand Pro\\n- Price: $29.99\\n- Adjustable aluminum stand\\n- Compatible with all smartphones\\n- Colors: Silver, Black, Rose Gold  \\n- Premium Screen Protector Set\\n- Price: $19.99\\n- 9H hardness tempered glass\\n- Oleophobic coating\\n- Pack of 3  \\n- Wireless Charging Pad\\n- Price: $39.99\\n- 15W fast charging\\n- LED charging indicator\\n- Compatible with Qi devices'), Document(metadata={'Header 1': 'TechStyle Global - Product Catalog', 'Header 2': 'Consumer Electronics', 'Header 3': 'Laptops & Computing'}, page_content='### Laptops & Computing\\n- PowerBook Pro 15\"\\n- Price: $1299.99\\n- Intel i7 processor\\n- 16GB RAM\\n- 512GB SSD\\n- NVIDIA Graphics  \\n- UltraBook Air 13\"\\n- Price: $899.99\\n- AMD Ryzen 5\\n- 8GB RAM\\n- 256GB SSD\\n- 18-hour battery life  \\n- Laptop Accessories Bundle\\n- Price: $79.99\\n- Wireless mouse\\n- Laptop sleeve\\n- USB-C hub\\n- Cleaning kit'), Document(metadata={'Header 1': 'TechStyle Global - Product Catalog', 'Header 2': 'Smart Home Devices', 'Header 3': 'Security'}, page_content='## Smart Home Devices  \\n### Security\\n- SmartCam Pro\\n- Price: $149.99\\n- 2K resolution\\n- Night vision\\n- Two-way audio\\n- Cloud storage included  \\n- Smart Door Lock\\n- Price: $199.99\\n- Fingerprint sensor\\n- PIN code entry\\n- Smartphone control\\n- Battery backup'), Document(metadata={'Header 1': 'TechStyle Global - Product Catalog', 'Header 2': 'Smart Home Devices', 'Header 3': 'Home Automation'}, page_content='### Home Automation\\n- Smart Light Starter Kit\\n- Price: $89.99\\n- 4 smart bulbs\\n- Hub included\\n- Voice control\\n- 16 million colors  \\n- Smart Thermostat\\n- Price: $129.99\\n- Energy saving\\n- Schedule programming\\n- Remote control\\n- Usage analytics'), Document(metadata={'Header 1': 'TechStyle Global - Product Catalog', 'Header 2': 'Wearable Technology', 'Header 3': 'Fitness Trackers'}, page_content='## Wearable Technology  \\n### Fitness Trackers\\n- FitStyle Pro\\n- Price: $149.99\\n- Heart rate monitoring\\n- Sleep tracking\\n- 7-day battery life\\n- Water resistant  \\n- SportBand Lite\\n- Price: $79.99\\n- Step counting\\n- Basic sleep tracking\\n- 14-day battery life\\n- 5 color options'), Document(metadata={'Header 1': 'TechStyle Global - Product Catalog', 'Header 2': 'Wearable Technology', 'Header 3': 'Smartwatches'}, page_content='### Smartwatches\\n- TechWatch Premium\\n- Price: $299.99\\n- AMOLED display\\n- ECG monitoring\\n- GPS\\n- 50+ sport modes  \\n- TechWatch Lite\\n- Price: $199.99\\n- LCD display\\n- Heart rate monitoring\\n- Basic fitness tracking\\n- 2-week battery life'), Document(metadata={'Header 1': 'TechStyle Global - Product Catalog', 'Header 2': 'TechStyle Basics (Private Label)', 'Header 3': 'Cables & Chargers'}, page_content='## TechStyle Basics (Private Label)  \\n### Cables & Chargers\\n- Premium USB-C Cable\\n- Price: $14.99\\n- 6ft length\\n- Braided nylon\\n- Fast charging\\n- Colors: Black, White  \\n- Power Bank 10000mAh\\n- Price: $34.99\\n- Dual USB ports\\n- Fast charging\\n- LED indicator\\n- Compact design'), Document(metadata={'Header 1': 'TechStyle Global - Product Catalog', 'Header 2': 'TechStyle Basics (Private Label)', 'Header 3': 'Audio'}, page_content='### Audio\\n- TechStyle Wireless Earbuds\\n- Price: $69.99\\n- 24-hour battery\\n- Touch controls\\n- Water resistant\\n- Noise isolation  \\n- TechStyle Over-Ear Headphones\\n- Price: $89.99\\n- Bluetooth 5.0\\n- 30-hour battery\\n- Foldable design\\n- Carrying case included'), Document(metadata={'Header 1': 'TechStyle Global - Product Catalog', 'Header 2': 'Special Offers', 'Header 3': 'TechStyle Plus Member Benefits'}, page_content='## Special Offers  \\n### TechStyle Plus Member Benefits\\n- 10% discount on all products\\n- Free express shipping\\n- Early access to new products\\n- Extended warranty\\n- Priority customer support'), Document(metadata={'Header 1': 'TechStyle Global - Product Catalog', 'Header 2': 'Special Offers', 'Header 3': 'Bundles'}, page_content='### Bundles\\n- Work From Home Bundle\\n- Price: $1499.99\\n- UltraBook Air 13\"\\n- Wireless Mouse\\n- External Monitor\\n- Desk Stand\\n- Webcam  \\n- Smart Home Starter Bundle\\n- Price: $299.99\\n- SmartCam Pro\\n- Smart Light Kit\\n- Smart Plug (2-pack)\\n- Voice Assistant'), Document(metadata={'Header 1': 'TechStyle Global - Product Catalog', 'Header 2': 'Special Offers', 'Header 3': 'Warranty Information'}, page_content='### Warranty Information\\n- All products include standard 1-year warranty\\n- TechStyle Plus members get additional 1-year warranty\\n- 30-day money-back guarantee\\n- Free technical support'), Document(metadata={'Header 1': 'TechStyle Global - Product Catalog', 'Header 2': 'Special Offers', 'Header 3': 'Shipping Options'}, page_content='### Shipping Options\\n- Standard Shipping (3-5 days): Free over $50\\n- Express Shipping (1-2 days): $9.99\\n- International Shipping: Available to select countries\\n- TechStyle Plus members get free express shipping'), Document(metadata={'Header 1': 'TechStyle Global - Shipping Policy', 'Header 2': 'Delivery Options', 'Header 3': 'Standard Shipping'}, page_content='# TechStyle Global - Shipping Policy  \\n## Delivery Options  \\n### Standard Shipping\\n- Delivery Time: 3-5 business days\\n- Cost: Free for orders over $50\\n- Orders under $50: $4.99\\n- Available in: United States and Canada\\n- Tracking provided via email'), Document(metadata={'Header 1': 'TechStyle Global - Shipping Policy', 'Header 2': 'Delivery Options', 'Header 3': 'Express Shipping'}, page_content='### Express Shipping\\n- Delivery Time: 1-2 business days\\n- Cost: $9.99\\n- Free for TechStyle Plus members\\n- Available in: United States and Canada\\n- Real-time tracking via app and email'), Document(metadata={'Header 1': 'TechStyle Global - Shipping Policy', 'Header 2': 'Delivery Options', 'Header 3': 'International Shipping'}, page_content='### International Shipping\\n- Delivery Time: 7-14 business days\\n- Cost: Calculated based on:\\n- Destination country\\n- Package weight\\n- Package dimensions\\n- Available in: 50+ countries\\n- Tracking provided where available'), Document(metadata={'Header 1': 'TechStyle Global - Shipping Policy', 'Header 2': 'Order Processing', 'Header 3': 'Processing Times'}, page_content='## Order Processing  \\n### Processing Times\\n- In-stock items: 1-2 business days\\n- Custom orders: 3-5 business days\\n- Pre-orders: As specified on product page\\n- Business days are Monday-Friday, excluding holidays'), Document(metadata={'Header 1': 'TechStyle Global - Shipping Policy', 'Header 2': 'Order Processing', 'Header 3': 'Cut-off Times'}, page_content='### Cut-off Times\\n- Orders placed before 2 PM EST: Same-day processing\\n- Orders placed after 2 PM EST: Next business day processing\\n- Express orders before 11 AM EST: Same-day shipping'), Document(metadata={'Header 1': 'TechStyle Global - Shipping Policy', 'Header 2': 'Shipping Restrictions', 'Header 3': 'Restricted Items'}, page_content='## Shipping Restrictions  \\n### Restricted Items\\n- Batteries and power banks\\n- Aerosol products\\n- Certain electronics\\n- Please check specific product pages for restrictions'), Document(metadata={'Header 1': 'TechStyle Global - Shipping Policy', 'Header 2': 'Shipping Restrictions', 'Header 3': 'Restricted Locations'}, page_content='### Restricted Locations\\n- Some PO boxes\\n- APO/FPO addresses\\n- Certain international locations\\n- Please contact support for detailed information'), Document(metadata={'Header 1': 'TechStyle Global - Shipping Policy', 'Header 2': 'Tracking Your Order', 'Header 3': 'Tracking Information'}, page_content='## Tracking Your Order  \\n### Tracking Information\\n- Provided via email once order ships\\n- Available in your TechStyle account\\n- Updates at major shipping milestones\\n- Live chat support for tracking questions'), Document(metadata={'Header 1': 'TechStyle Global - Shipping Policy', 'Header 2': 'Tracking Your Order', 'Header 3': 'Lost Packages'}, page_content='### Lost Packages\\n- Domestic: Investigation after 5 business days\\n- International: Investigation after 14 business days\\n- Claims must be filed within 30 days of shipment'), Document(metadata={'Header 1': 'TechStyle Global - Shipping Policy', 'Header 2': 'Special Circumstances', 'Header 3': 'Weather Delays'}, page_content='## Special Circumstances  \\n### Weather Delays\\n- Delivery times may be affected by severe weather\\n- Notifications sent for significant delays\\n- Safety of packages prioritized during extreme conditions'), Document(metadata={'Header 1': 'TechStyle Global - Shipping Policy', 'Header 2': 'Special Circumstances', 'Header 3': 'Holiday Shipping'}, page_content='### Holiday Shipping\\n- Extended processing times during peak seasons\\n- Holiday cut-off dates posted in October\\n- Special holiday shipping rates may apply'), Document(metadata={'Header 1': 'TechStyle Global - Shipping Policy', 'Header 2': 'International Orders', 'Header 3': 'Customs & Duties'}, page_content='## International Orders  \\n### Customs & Duties\\n- Import duties not included in shipping cost\\n- Buyer responsible for customs fees\\n- Local taxes may apply\\n- Delivery times may vary due to customs'), Document(metadata={'Header 1': 'TechStyle Global - Shipping Policy', 'Header 2': 'International Orders', 'Header 3': 'International Returns'}, page_content='### International Returns\\n- Return shipping labels provided for defective items\\n- Customer pays return shipping for non-defective items\\n- 45-day return window for international orders'), Document(metadata={'Header 1': 'TechStyle Global - Shipping Policy', 'Header 2': 'TechStyle Plus Benefits', 'Header 3': 'Member Privileges'}, page_content='## TechStyle Plus Benefits  \\n### Member Privileges\\n- Free express shipping on all orders\\n- Priority processing\\n- Exclusive holiday shipping rates\\n- Early access to pre-orders'), Document(metadata={'Header 1': 'TechStyle Global - Shipping Policy', 'Header 2': 'TechStyle Plus Benefits', 'Header 3': 'Premium Support'}, page_content='### Premium Support\\n- Dedicated shipping support line\\n- Priority claim processing\\n- Special handling requests accepted'), Document(metadata={'Header 1': 'TechStyle Global - Shipping Policy', 'Header 2': 'Contact Information', 'Header 3': 'Shipping Support'}, page_content='## Contact Information  \\n### Shipping Support\\n- Email: shipping@techstyle.com\\n- Phone: 1-800-TECH-STYLE (Option 2)\\n- Live Chat: Available 24/7\\n- Response Time: Within 24 hours'), Document(metadata={'Header 1': 'TechStyle Global - Shipping Policy', 'Header 2': 'Contact Information', 'Header 3': 'Claims Department'}, page_content='### Claims Department\\n- Email: claims@techstyle.com\\n- Phone: 1-800-TECH-STYLE (Option 3)\\n- Claim Forms: Available in account dashboard'), Document(metadata={'Header 1': 'TechStyle Global - Shipping Policy', 'Header 2': 'Policy Updates'}, page_content='## Policy Updates\\n- Last Updated: December 2024\\n- Changes will be notified via email\\n- Policy updates posted 30 days in advance\\n- Historic policies available upon request')]\n"
          ]
        }
      ],
      "source": [
        "from langchain.text_splitter import MarkdownHeaderTextSplitter\n",
        "\n",
        "headers_to_split_on = [\n",
        "    (\"#\", \"Header 1\"),\n",
        "    (\"##\", \"Header 2\"),\n",
        "    (\"###\", \"Header 3\"),\n",
        "]\n",
        "\n",
        "markdown_splitter = MarkdownHeaderTextSplitter(headers_to_split_on=headers_to_split_on,\n",
        "                                               strip_headers = False)\n",
        "\n",
        "def split_text_with_headers(text_data):\n",
        "    splits = []\n",
        "    for filename, text in text_data.items():\n",
        "\n",
        "        chunk_splits = markdown_splitter.split_text(text)\n",
        "        splits.extend(chunk_splits)\n",
        "\n",
        "    return splits\n",
        "\n",
        "md_header_splits = split_text_with_headers(text_data)\n",
        "print(\"Split Text Data:\", md_header_splits)\n"
      ]
    },
    {
      "cell_type": "markdown",
      "metadata": {
        "id": "m9HMAAVAsKQf"
      },
      "source": [
        "# Create and Initialize Chroma Vector Store"
      ]
    },
    {
      "cell_type": "code",
      "execution_count": null,
      "metadata": {
        "id": "fynY6ufKsHvl"
      },
      "outputs": [],
      "source": [
        "from langchain.vectorstores import Chroma\n",
        "from langchain.embeddings import HuggingFaceEmbeddings\n",
        "\n",
        "embeddings = HuggingFaceEmbeddings(model_name=\"sentence-transformers/all-MiniLM-L6-v2\")\n",
        "\n",
        "vector_store = Chroma.from_documents(\n",
        "    documents=md_header_splits,\n",
        "    embedding=embeddings,\n",
        "    persist_directory=\"/content/vector_store\"\n",
        ")\n",
        "\n",
        "retriever = vector_store.as_retriever(search_kwargs={\"k\": 3})"
      ]
    },
    {
      "cell_type": "markdown",
      "metadata": {
        "id": "M2IZjc8msVWh"
      },
      "source": [
        "# Retrieve and Generate Response (Using RAG)"
      ]
    },
    {
      "cell_type": "code",
      "execution_count": null,
      "metadata": {
        "id": "pcSm6--_sROk"
      },
      "outputs": [],
      "source": [
        "def retrieve_and_generate(question):\n",
        "\n",
        "    docs = retriever.get_relevant_documents(question)\n",
        "\n",
        "    for doc in docs:\n",
        "      print(doc.page_content, end=\"\\n\\n\")\n",
        "\n",
        "    context = \" \".join([doc.page_content for doc in docs])\n",
        "\n",
        "    context = f\"\"\" Please answer the questions about TechStyle, its products and shipping details \\n\n",
        "using this information only: {context}.\"\"\"\n",
        "\n",
        "    return query_hf_model(inputs=question, context=context)\n"
      ]
    },
    {
      "cell_type": "code",
      "execution_count": null,
      "metadata": {
        "colab": {
          "base_uri": "https://localhost:8080/"
        },
        "id": "SHn-Yb4AsAhq",
        "outputId": "4aeec36b-d331-4d5a-a780-f378455a3495"
      },
      "outputs": [
        {
          "name": "stdout",
          "output_type": "stream",
          "text": [
            "### Audio\n",
            "- TechStyle Wireless Earbuds\n",
            "- Price: $69.99\n",
            "- 24-hour battery\n",
            "- Touch controls\n",
            "- Water resistant\n",
            "- Noise isolation  \n",
            "- TechStyle Over-Ear Headphones\n",
            "- Price: $89.99\n",
            "- Bluetooth 5.0\n",
            "- 30-hour battery\n",
            "- Foldable design\n",
            "- Carrying case included\n",
            "\n",
            "### Bundles\n",
            "- Work From Home Bundle\n",
            "- Price: $1499.99\n",
            "- UltraBook Air 13\"\n",
            "- Wireless Mouse\n",
            "- External Monitor\n",
            "- Desk Stand\n",
            "- Webcam  \n",
            "- Smart Home Starter Bundle\n",
            "- Price: $299.99\n",
            "- SmartCam Pro\n",
            "- Smart Light Kit\n",
            "- Smart Plug (2-pack)\n",
            "- Voice Assistant\n",
            "\n",
            "## Wearable Technology  \n",
            "### Fitness Trackers\n",
            "- FitStyle Pro\n",
            "- Price: $149.99\n",
            "- Heart rate monitoring\n",
            "- Sleep tracking\n",
            "- 7-day battery life\n",
            "- Water resistant  \n",
            "- SportBand Lite\n",
            "- Price: $79.99\n",
            "- Step counting\n",
            "- Basic sleep tracking\n",
            "- 14-day battery life\n",
            "- 5 color options\n",
            "\n",
            "# Response after RAG:\n",
            "\n",
            "Certainly! TechStyle offers two types of earbuds. The TechStyle Wireless Earbuds are priced at $69.99 and feature a 24-hour battery life, touch controls, water resistance, and noise isolation. The TechStyle Over-Ear Headphones are slightly more expensive at $89.99 and include Bluetooth 5.0, a 30-hour battery life, a foldable design, and a carrying case.\n"
          ]
        }
      ],
      "source": [
        "query = \"Could you inform me about the prices of earbuds?\"\n",
        "result = retrieve_and_generate(query)\n",
        "print(\"# Response after RAG:\", end=\"\\n\\n\")\n",
        "print(result)"
      ]
    },
    {
      "cell_type": "markdown",
      "metadata": {
        "id": "B--SkFXpzODc"
      },
      "source": [
        "#  Gradio Interface"
      ]
    },
    {
      "cell_type": "code",
      "execution_count": null,
      "metadata": {
        "id": "5UNOy_vjy_iA"
      },
      "outputs": [],
      "source": [
        "import gradio as gr\n",
        "\n",
        "def gradio_interface(query):\n",
        "    return retrieve_and_generate(query)\n",
        "\n",
        "interface = gr.Interface(\n",
        "    fn=gradio_interface,\n",
        "    inputs=gr.Textbox(label=\"Hi, I'm TechStyle Phi. How can I help you today?\"),\n",
        "    outputs=gr.Textbox(label=\"TechStyle Phi\")\n",
        ")\n",
        "\n",
        "interface.launch()"
      ]
    }
  ],
  "metadata": {
    "colab": {
      "machine_shape": "hm",
      "provenance": []
    },
    "kernelspec": {
      "display_name": "Python 3",
      "name": "python3"
    },
    "language_info": {
      "name": "python"
    }
  },
  "nbformat": 4,
  "nbformat_minor": 0
}
